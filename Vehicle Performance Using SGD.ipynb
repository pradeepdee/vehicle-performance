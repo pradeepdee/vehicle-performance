{
 "cells": [
  {
   "cell_type": "code",
   "execution_count": 152,
   "id": "1959c132",
   "metadata": {},
   "outputs": [],
   "source": [
    "import os\n",
    "os.chdir(r'D:\\Uddhav\\DATA SCIENCE\\ML PROJECTS\\LR SGD\\Vehicle Performance')\n",
    "\n",
    "import pandas as pd\n",
    "pd.set_option('display.max_column',None)\n",
    "\n",
    "import warnings\n",
    "warnings.filterwarnings('ignore')\n",
    "\n",
    "import math\n",
    "import numpy as np\n",
    "import matplotlib.pyplot as plt\n",
    "import seaborn as sns\n",
    "from scipy import stats \n",
    "import statsmodels.api as sm\n",
    "import statsmodels.formula.api as smf\n",
    "from statsmodels.formula.api import ols\n",
    "from statsmodels.stats.multicomp import pairwise_tukeyhsd\n",
    "from scipy.stats import chi2, chi2_contingency\n",
    "from statsmodels.stats.multicomp import pairwise_tukeyhsd\n",
    "\n",
    "\n",
    "from sklearn.linear_model import Lasso, LassoCV, Ridge, RidgeCV\n",
    "from sklearn.model_selection import cross_val_predict, train_test_split\n",
    "from statsmodels.stats.outliers_influence import variance_inflation_factor\n",
    "from sklearn.preprocessing import StandardScaler\n",
    "from sklearn.linear_model import SGDRegressor\n",
    "from sklearn.metrics import mean_squared_error"
   ]
  },
  {
   "cell_type": "code",
   "execution_count": 153,
   "id": "860f19d9",
   "metadata": {},
   "outputs": [],
   "source": [
    "pd.set_option('display.max_rows', None)\n",
    "pd.set_option('display.max_columns', None)\n",
    "pd.set_option('display.width', None)\n",
    "pd.set_option('display.max_colwidth', -1)"
   ]
  },
  {
   "cell_type": "code",
   "execution_count": 154,
   "id": "77ee9710",
   "metadata": {},
   "outputs": [
    {
     "data": {
      "text/html": [
       "<div>\n",
       "<style scoped>\n",
       "    .dataframe tbody tr th:only-of-type {\n",
       "        vertical-align: middle;\n",
       "    }\n",
       "\n",
       "    .dataframe tbody tr th {\n",
       "        vertical-align: top;\n",
       "    }\n",
       "\n",
       "    .dataframe thead th {\n",
       "        text-align: right;\n",
       "    }\n",
       "</style>\n",
       "<table border=\"1\" class=\"dataframe\">\n",
       "  <thead>\n",
       "    <tr style=\"text-align: right;\">\n",
       "      <th></th>\n",
       "      <th>origin</th>\n",
       "      <th>cylinders</th>\n",
       "      <th>displacement</th>\n",
       "      <th>horsepower</th>\n",
       "      <th>weight</th>\n",
       "      <th>acceleration</th>\n",
       "      <th>year</th>\n",
       "      <th>name</th>\n",
       "      <th>Kilometer_per_liter</th>\n",
       "    </tr>\n",
       "  </thead>\n",
       "  <tbody>\n",
       "    <tr>\n",
       "      <th>0</th>\n",
       "      <td>1</td>\n",
       "      <td>8</td>\n",
       "      <td>307.0</td>\n",
       "      <td>130</td>\n",
       "      <td>3504</td>\n",
       "      <td>12.0</td>\n",
       "      <td>1970</td>\n",
       "      <td>chevrolet chevelle malibu</td>\n",
       "      <td>7.652587</td>\n",
       "    </tr>\n",
       "    <tr>\n",
       "      <th>1</th>\n",
       "      <td>1</td>\n",
       "      <td>8</td>\n",
       "      <td>350.0</td>\n",
       "      <td>165</td>\n",
       "      <td>3693</td>\n",
       "      <td>11.5</td>\n",
       "      <td>1970</td>\n",
       "      <td>buick skylark 320</td>\n",
       "      <td>6.377156</td>\n",
       "    </tr>\n",
       "    <tr>\n",
       "      <th>2</th>\n",
       "      <td>1</td>\n",
       "      <td>8</td>\n",
       "      <td>318.0</td>\n",
       "      <td>150</td>\n",
       "      <td>3436</td>\n",
       "      <td>11.0</td>\n",
       "      <td>1970</td>\n",
       "      <td>plymouth satellite</td>\n",
       "      <td>7.652587</td>\n",
       "    </tr>\n",
       "    <tr>\n",
       "      <th>3</th>\n",
       "      <td>1</td>\n",
       "      <td>8</td>\n",
       "      <td>304.0</td>\n",
       "      <td>150</td>\n",
       "      <td>3433</td>\n",
       "      <td>12.0</td>\n",
       "      <td>1970</td>\n",
       "      <td>amc rebel sst</td>\n",
       "      <td>6.802299</td>\n",
       "    </tr>\n",
       "    <tr>\n",
       "      <th>4</th>\n",
       "      <td>1</td>\n",
       "      <td>8</td>\n",
       "      <td>302.0</td>\n",
       "      <td>140</td>\n",
       "      <td>3449</td>\n",
       "      <td>10.5</td>\n",
       "      <td>1970</td>\n",
       "      <td>ford torino</td>\n",
       "      <td>7.227443</td>\n",
       "    </tr>\n",
       "  </tbody>\n",
       "</table>\n",
       "</div>"
      ],
      "text/plain": [
       "   origin  cylinders  displacement horsepower  weight  acceleration  year  \\\n",
       "0  1       8          307.0         130        3504    12.0          1970   \n",
       "1  1       8          350.0         165        3693    11.5          1970   \n",
       "2  1       8          318.0         150        3436    11.0          1970   \n",
       "3  1       8          304.0         150        3433    12.0          1970   \n",
       "4  1       8          302.0         140        3449    10.5          1970   \n",
       "\n",
       "                        name  Kilometer_per_liter  \n",
       "0  chevrolet chevelle malibu  7.652587             \n",
       "1  buick skylark 320          6.377156             \n",
       "2  plymouth satellite         7.652587             \n",
       "3  amc rebel sst              6.802299             \n",
       "4  ford torino                7.227443             "
      ]
     },
     "execution_count": 154,
     "metadata": {},
     "output_type": "execute_result"
    }
   ],
   "source": [
    "df = pd.read_csv('data.csv')\n",
    "df.head()"
   ]
  },
  {
   "cell_type": "markdown",
   "id": "d7200b07",
   "metadata": {},
   "source": [
    "## Understanding the data "
   ]
  },
  {
   "cell_type": "code",
   "execution_count": 155,
   "id": "35621708",
   "metadata": {},
   "outputs": [
    {
     "data": {
      "text/html": [
       "<div>\n",
       "<style scoped>\n",
       "    .dataframe tbody tr th:only-of-type {\n",
       "        vertical-align: middle;\n",
       "    }\n",
       "\n",
       "    .dataframe tbody tr th {\n",
       "        vertical-align: top;\n",
       "    }\n",
       "\n",
       "    .dataframe thead th {\n",
       "        text-align: right;\n",
       "    }\n",
       "</style>\n",
       "<table border=\"1\" class=\"dataframe\">\n",
       "  <thead>\n",
       "    <tr style=\"text-align: right;\">\n",
       "      <th></th>\n",
       "      <th>origin</th>\n",
       "      <th>cylinders</th>\n",
       "      <th>displacement</th>\n",
       "      <th>horsepower</th>\n",
       "      <th>weight</th>\n",
       "      <th>acceleration</th>\n",
       "      <th>year</th>\n",
       "      <th>name</th>\n",
       "      <th>Kilometer_per_liter</th>\n",
       "    </tr>\n",
       "  </thead>\n",
       "  <tbody>\n",
       "    <tr>\n",
       "      <th>393</th>\n",
       "      <td>1</td>\n",
       "      <td>4</td>\n",
       "      <td>140.0</td>\n",
       "      <td>86</td>\n",
       "      <td>2790</td>\n",
       "      <td>15.6</td>\n",
       "      <td>1982</td>\n",
       "      <td>ford mustang gl</td>\n",
       "      <td>11.478880</td>\n",
       "    </tr>\n",
       "    <tr>\n",
       "      <th>394</th>\n",
       "      <td>2</td>\n",
       "      <td>4</td>\n",
       "      <td>97.0</td>\n",
       "      <td>52</td>\n",
       "      <td>2130</td>\n",
       "      <td>24.6</td>\n",
       "      <td>1982</td>\n",
       "      <td>vw pickup</td>\n",
       "      <td>18.706323</td>\n",
       "    </tr>\n",
       "    <tr>\n",
       "      <th>395</th>\n",
       "      <td>1</td>\n",
       "      <td>4</td>\n",
       "      <td>135.0</td>\n",
       "      <td>84</td>\n",
       "      <td>2295</td>\n",
       "      <td>11.6</td>\n",
       "      <td>1982</td>\n",
       "      <td>dodge rampage</td>\n",
       "      <td>13.604599</td>\n",
       "    </tr>\n",
       "    <tr>\n",
       "      <th>396</th>\n",
       "      <td>1</td>\n",
       "      <td>4</td>\n",
       "      <td>120.0</td>\n",
       "      <td>79</td>\n",
       "      <td>2625</td>\n",
       "      <td>18.6</td>\n",
       "      <td>1982</td>\n",
       "      <td>ford ranger</td>\n",
       "      <td>11.904024</td>\n",
       "    </tr>\n",
       "    <tr>\n",
       "      <th>397</th>\n",
       "      <td>1</td>\n",
       "      <td>4</td>\n",
       "      <td>119.0</td>\n",
       "      <td>82</td>\n",
       "      <td>2720</td>\n",
       "      <td>19.4</td>\n",
       "      <td>1982</td>\n",
       "      <td>chevy s-10</td>\n",
       "      <td>13.179455</td>\n",
       "    </tr>\n",
       "  </tbody>\n",
       "</table>\n",
       "</div>"
      ],
      "text/plain": [
       "     origin  cylinders  displacement horsepower  weight  acceleration  year  \\\n",
       "393  1       4          140.0         86         2790    15.6          1982   \n",
       "394  2       4          97.0          52         2130    24.6          1982   \n",
       "395  1       4          135.0         84         2295    11.6          1982   \n",
       "396  1       4          120.0         79         2625    18.6          1982   \n",
       "397  1       4          119.0         82         2720    19.4          1982   \n",
       "\n",
       "                name  Kilometer_per_liter  \n",
       "393  ford mustang gl  11.478880            \n",
       "394  vw pickup        18.706323            \n",
       "395  dodge rampage    13.604599            \n",
       "396  ford ranger      11.904024            \n",
       "397  chevy s-10       13.179455            "
      ]
     },
     "execution_count": 155,
     "metadata": {},
     "output_type": "execute_result"
    }
   ],
   "source": [
    "df.tail()"
   ]
  },
  {
   "cell_type": "code",
   "execution_count": 156,
   "id": "10f6b96f",
   "metadata": {},
   "outputs": [
    {
     "name": "stdout",
     "output_type": "stream",
     "text": [
      "<class 'pandas.core.frame.DataFrame'>\n",
      "RangeIndex: 398 entries, 0 to 397\n",
      "Data columns (total 9 columns):\n",
      " #   Column               Non-Null Count  Dtype  \n",
      "---  ------               --------------  -----  \n",
      " 0   origin               398 non-null    int64  \n",
      " 1   cylinders            398 non-null    int64  \n",
      " 2   displacement         398 non-null    float64\n",
      " 3   horsepower           398 non-null    object \n",
      " 4   weight               398 non-null    int64  \n",
      " 5   acceleration         398 non-null    float64\n",
      " 6   year                 398 non-null    int64  \n",
      " 7   name                 398 non-null    object \n",
      " 8   Kilometer_per_liter  398 non-null    float64\n",
      "dtypes: float64(3), int64(4), object(2)\n",
      "memory usage: 28.1+ KB\n"
     ]
    }
   ],
   "source": [
    "df.info()"
   ]
  },
  {
   "cell_type": "code",
   "execution_count": 157,
   "id": "99e020e0",
   "metadata": {
    "scrolled": false
   },
   "outputs": [
    {
     "data": {
      "text/html": [
       "<div>\n",
       "<style scoped>\n",
       "    .dataframe tbody tr th:only-of-type {\n",
       "        vertical-align: middle;\n",
       "    }\n",
       "\n",
       "    .dataframe tbody tr th {\n",
       "        vertical-align: top;\n",
       "    }\n",
       "\n",
       "    .dataframe thead th {\n",
       "        text-align: right;\n",
       "    }\n",
       "</style>\n",
       "<table border=\"1\" class=\"dataframe\">\n",
       "  <thead>\n",
       "    <tr style=\"text-align: right;\">\n",
       "      <th></th>\n",
       "      <th>origin</th>\n",
       "      <th>cylinders</th>\n",
       "      <th>displacement</th>\n",
       "      <th>weight</th>\n",
       "      <th>acceleration</th>\n",
       "      <th>year</th>\n",
       "      <th>Kilometer_per_liter</th>\n",
       "    </tr>\n",
       "  </thead>\n",
       "  <tbody>\n",
       "    <tr>\n",
       "      <th>count</th>\n",
       "      <td>398.000000</td>\n",
       "      <td>398.000000</td>\n",
       "      <td>398.000000</td>\n",
       "      <td>398.000000</td>\n",
       "      <td>398.000000</td>\n",
       "      <td>398.000000</td>\n",
       "      <td>398.000000</td>\n",
       "    </tr>\n",
       "    <tr>\n",
       "      <th>mean</th>\n",
       "      <td>1.572864</td>\n",
       "      <td>5.454774</td>\n",
       "      <td>193.425879</td>\n",
       "      <td>2970.424623</td>\n",
       "      <td>15.568090</td>\n",
       "      <td>1976.010050</td>\n",
       "      <td>9.997073</td>\n",
       "    </tr>\n",
       "    <tr>\n",
       "      <th>std</th>\n",
       "      <td>0.802055</td>\n",
       "      <td>1.701004</td>\n",
       "      <td>104.269838</td>\n",
       "      <td>846.841774</td>\n",
       "      <td>2.757689</td>\n",
       "      <td>3.697627</td>\n",
       "      <td>3.322917</td>\n",
       "    </tr>\n",
       "    <tr>\n",
       "      <th>min</th>\n",
       "      <td>1.000000</td>\n",
       "      <td>3.000000</td>\n",
       "      <td>68.000000</td>\n",
       "      <td>1613.000000</td>\n",
       "      <td>8.000000</td>\n",
       "      <td>1970.000000</td>\n",
       "      <td>3.826293</td>\n",
       "    </tr>\n",
       "    <tr>\n",
       "      <th>25%</th>\n",
       "      <td>1.000000</td>\n",
       "      <td>4.000000</td>\n",
       "      <td>104.250000</td>\n",
       "      <td>2223.750000</td>\n",
       "      <td>13.825000</td>\n",
       "      <td>1973.000000</td>\n",
       "      <td>7.440015</td>\n",
       "    </tr>\n",
       "    <tr>\n",
       "      <th>50%</th>\n",
       "      <td>1.000000</td>\n",
       "      <td>4.000000</td>\n",
       "      <td>148.500000</td>\n",
       "      <td>2803.500000</td>\n",
       "      <td>15.500000</td>\n",
       "      <td>1976.000000</td>\n",
       "      <td>9.778305</td>\n",
       "    </tr>\n",
       "    <tr>\n",
       "      <th>75%</th>\n",
       "      <td>2.000000</td>\n",
       "      <td>8.000000</td>\n",
       "      <td>262.000000</td>\n",
       "      <td>3608.000000</td>\n",
       "      <td>17.175000</td>\n",
       "      <td>1979.000000</td>\n",
       "      <td>12.329168</td>\n",
       "    </tr>\n",
       "    <tr>\n",
       "      <th>max</th>\n",
       "      <td>3.000000</td>\n",
       "      <td>8.000000</td>\n",
       "      <td>455.000000</td>\n",
       "      <td>5140.000000</td>\n",
       "      <td>24.800000</td>\n",
       "      <td>1982.000000</td>\n",
       "      <td>19.811697</td>\n",
       "    </tr>\n",
       "  </tbody>\n",
       "</table>\n",
       "</div>"
      ],
      "text/plain": [
       "           origin   cylinders  displacement       weight  acceleration  \\\n",
       "count  398.000000  398.000000  398.000000    398.000000   398.000000     \n",
       "mean   1.572864    5.454774    193.425879    2970.424623  15.568090      \n",
       "std    0.802055    1.701004    104.269838    846.841774   2.757689       \n",
       "min    1.000000    3.000000    68.000000     1613.000000  8.000000       \n",
       "25%    1.000000    4.000000    104.250000    2223.750000  13.825000      \n",
       "50%    1.000000    4.000000    148.500000    2803.500000  15.500000      \n",
       "75%    2.000000    8.000000    262.000000    3608.000000  17.175000      \n",
       "max    3.000000    8.000000    455.000000    5140.000000  24.800000      \n",
       "\n",
       "              year  Kilometer_per_liter  \n",
       "count  398.000000   398.000000           \n",
       "mean   1976.010050  9.997073             \n",
       "std    3.697627     3.322917             \n",
       "min    1970.000000  3.826293             \n",
       "25%    1973.000000  7.440015             \n",
       "50%    1976.000000  9.778305             \n",
       "75%    1979.000000  12.329168            \n",
       "max    1982.000000  19.811697            "
      ]
     },
     "execution_count": 157,
     "metadata": {},
     "output_type": "execute_result"
    }
   ],
   "source": [
    "df.describe()"
   ]
  },
  {
   "cell_type": "code",
   "execution_count": 158,
   "id": "621e1b82",
   "metadata": {
    "scrolled": true
   },
   "outputs": [
    {
     "data": {
      "text/plain": [
       "<AxesSubplot:>"
      ]
     },
     "execution_count": 158,
     "metadata": {},
     "output_type": "execute_result"
    },
    {
     "data": {
      "image/png": "[encoded data removed]",
      "text/plain": [
       "<Figure size 432x288 with 2 Axes>"
      ]
     },
     "metadata": {
      "needs_background": "light"
     },
     "output_type": "display_data"
    }
   ],
   "source": [
    "sns.heatmap(df.isnull(), cmap = 'viridis')"
   ]
  },
  {
   "cell_type": "markdown",
   "id": "7a586b9b",
   "metadata": {},
   "source": [
    "# EDA"
   ]
  },
  {
   "cell_type": "markdown",
   "id": "fbe0ccfe",
   "metadata": {},
   "source": [
    "## Target Variable : Kilometer_per_liter"
   ]
  },
  {
   "cell_type": "code",
   "execution_count": 159,
   "id": "d79f4c47",
   "metadata": {},
   "outputs": [
    {
     "data": {
      "text/plain": [
       "5.526868     20\n",
       "5.952012     19\n",
       "7.652587     17\n",
       "6.377156     16\n",
       "11.053736    14\n",
       "6.802299     13\n",
       "8.077730     12\n",
       "10.628593    11\n",
       "10.203449    11\n",
       "9.778305     10\n",
       "9.353162     10\n",
       "11.904024    10\n",
       "11.478880    9 \n",
       "8.502874     9 \n",
       "8.928018     8 \n",
       "12.329168    8 \n",
       "13.179455    7 \n",
       "7.227443     7 \n",
       "12.754311    7 \n",
       "5.101724     6 \n",
       "15.305173    6 \n",
       "13.604599    6 \n",
       "7.440015     5 \n",
       "6.589727     5 \n",
       "16.155461    4 \n",
       "4.676581     4 \n",
       "8.587903     4 \n",
       "8.715446     3 \n",
       "14.029742    3 \n",
       "11.563909    3 \n",
       "7.014871     3 \n",
       "7.865159     3 \n",
       "15.730317    3 \n",
       "14.242314    3 \n",
       "8.162759     3 \n",
       "9.140590     3 \n",
       "13.774656    2 \n",
       "7.482529     2 \n",
       "10.841165    2 \n",
       "8.757960     2 \n",
       "12.541739    2 \n",
       "14.880030    2 \n",
       "4.251437     2 \n",
       "7.695101     2 \n",
       "10.160935    2 \n",
       "10.798650    2 \n",
       "13.392027    2 \n",
       "12.966883    2 \n",
       "12.669282    2 \n",
       "14.497400    2 \n",
       "11.308823    2 \n",
       "8.247788     2 \n",
       "14.454886    2 \n",
       "14.667458    2 \n",
       "15.347688    2 \n",
       "10.416021    2 \n",
       "16.580605    1 \n",
       "13.434541    1 \n",
       "17.345863    1 \n",
       "11.223794    1 \n",
       "13.562084    1 \n",
       "14.327343    1 \n",
       "8.842989     1 \n",
       "13.902199    1 \n",
       "9.990877     1 \n",
       "8.460360     1 \n",
       "17.643464    1 \n",
       "15.815346    1 \n",
       "7.737615     1 \n",
       "10.288478    1 \n",
       "13.306998    1 \n",
       "13.944714    1 \n",
       "13.136941    1 \n",
       "18.706323    1 \n",
       "7.184929     1 \n",
       "19.811697    1 \n",
       "16.750662    1 \n",
       "16.197975    1 \n",
       "8.630417     1 \n",
       "14.922544    1 \n",
       "6.887328     1 \n",
       "13.647113    1 \n",
       "13.051912    1 \n",
       "13.987228    1 \n",
       "11.393851    1 \n",
       "6.164584     1 \n",
       "14.369857    1 \n",
       "17.388378    1 \n",
       "7.525044     1 \n",
       "12.244139    1 \n",
       "13.689627    1 \n",
       "18.323694    1 \n",
       "9.565733     1 \n",
       "18.833866    1 \n",
       "7.907673     1 \n",
       "16.623119    1 \n",
       "10.075906    1 \n",
       "14.624944    1 \n",
       "11.691452    1 \n",
       "9.183104     1 \n",
       "14.539915    1 \n",
       "14.582429    1 \n",
       "13.519570    1 \n",
       "16.027918    1 \n",
       "15.177630    1 \n",
       "8.417845     1 \n",
       "10.671107    1 \n",
       "8.970532     1 \n",
       "15.475231    1 \n",
       "9.863334     1 \n",
       "10.118420    1 \n",
       "13.732142    1 \n",
       "9.523219     1 \n",
       "18.961409    1 \n",
       "11.648938    1 \n",
       "8.120245     1 \n",
       "3.826293     1 \n",
       "10.968708    1 \n",
       "10.330992    1 \n",
       "12.711797    1 \n",
       "18.451237    1 \n",
       "12.074081    1 \n",
       "11.266308    1 \n",
       "11.946538    1 \n",
       "10.033391    1 \n",
       "14.752487    1 \n",
       "15.857860    1 \n",
       "9.480705     1 \n",
       "11.861509    1 \n",
       "Name: Kilometer_per_liter, dtype: int64"
      ]
     },
     "execution_count": 159,
     "metadata": {},
     "output_type": "execute_result"
    }
   ],
   "source": [
    "df.Kilometer_per_liter.value_counts()"
   ]
  },
  {
   "cell_type": "code",
   "execution_count": 160,
   "id": "c7adad54",
   "metadata": {},
   "outputs": [
    {
     "data": {
      "text/plain": [
       "0"
      ]
     },
     "execution_count": 160,
     "metadata": {},
     "output_type": "execute_result"
    }
   ],
   "source": [
    "df.Kilometer_per_liter.isnull().sum()"
   ]
  },
  {
   "cell_type": "code",
   "execution_count": 161,
   "id": "4e74934e",
   "metadata": {},
   "outputs": [
    {
     "data": {
      "text/plain": [
       "<AxesSubplot:xlabel='Kilometer_per_liter', ylabel='count'>"
      ]
     },
     "execution_count": 161,
     "metadata": {},
     "output_type": "execute_result"
    },
    {
     "data": {
      "image/png": "[encoded data removed]",
      "text/plain": [
       "<Figure size 432x288 with 1 Axes>"
      ]
     },
     "metadata": {
      "needs_background": "light"
     },
     "output_type": "display_data"
    }
   ],
   "source": [
    "sns.countplot(df.Kilometer_per_liter, palette = 'gist_rainbow')"
   ]
  },
  {
   "cell_type": "code",
   "execution_count": 162,
   "id": "042714cd",
   "metadata": {},
   "outputs": [
    {
     "data": {
      "text/plain": [
       "<AxesSubplot:xlabel='Kilometer_per_liter'>"
      ]
     },
     "execution_count": 162,
     "metadata": {},
     "output_type": "execute_result"
    },
    {
     "data": {
      "image/png": "[encoded data removed]",
      "text/plain": [
       "<Figure size 432x288 with 1 Axes>"
      ]
     },
     "metadata": {
      "needs_background": "light"
     },
     "output_type": "display_data"
    }
   ],
   "source": [
    "sns.boxplot(df.Kilometer_per_liter, palette = 'gist_rainbow')"
   ]
  },
  {
   "cell_type": "code",
   "execution_count": 163,
   "id": "9c595231",
   "metadata": {},
   "outputs": [
    {
     "data": {
      "text/plain": [
       "<AxesSubplot:xlabel='Kilometer_per_liter', ylabel='Density'>"
      ]
     },
     "execution_count": 163,
     "metadata": {},
     "output_type": "execute_result"
    },
    {
     "data": {
      "image/png": "[encoded data removed]",
      "text/plain": [
       "<Figure size 432x288 with 1 Axes>"
      ]
     },
     "metadata": {
      "needs_background": "light"
     },
     "output_type": "display_data"
    }
   ],
   "source": [
    "sns.distplot(df.Kilometer_per_liter)"
   ]
  },
  {
   "cell_type": "markdown",
   "id": "f3ee1834",
   "metadata": {},
   "source": [
    "#### Outlier Treatment for Kilometer_per_liter"
   ]
  },
  {
   "cell_type": "code",
   "execution_count": 164,
   "id": "33d77c08",
   "metadata": {},
   "outputs": [
    {
     "name": "stdout",
     "output_type": "stream",
     "text": [
      "12.329167515477888 7.440014880029761 4.889152635448127\n"
     ]
    }
   ],
   "source": [
    "Q3_k = df.Kilometer_per_liter.quantile(0.75)\n",
    "Q1_k = df.Kilometer_per_liter.quantile(0.25)\n",
    "IQR_k = Q3_k - Q1_k\n",
    "print(Q3_k,Q1_k,IQR_k)\n",
    "\n",
    "UL_k = Q3_k + (1.5*IQR_k)\n",
    "LL_k = Q1_k - (1.5*IQR_k)"
   ]
  },
  {
   "cell_type": "code",
   "execution_count": 165,
   "id": "a32205e6",
   "metadata": {},
   "outputs": [
    {
     "data": {
      "text/plain": [
       "1"
      ]
     },
     "execution_count": 165,
     "metadata": {},
     "output_type": "execute_result"
    }
   ],
   "source": [
    "df.Kilometer_per_liter[(df.Kilometer_per_liter > UL_k)].value_counts().sum()"
   ]
  },
  {
   "cell_type": "code",
   "execution_count": 166,
   "id": "79623f65",
   "metadata": {},
   "outputs": [
    {
     "data": {
      "text/plain": [
       "0"
      ]
     },
     "execution_count": 166,
     "metadata": {},
     "output_type": "execute_result"
    }
   ],
   "source": [
    "df.Kilometer_per_liter[(df.Kilometer_per_liter < LL_k)].value_counts().sum()"
   ]
  },
  {
   "cell_type": "code",
   "execution_count": 167,
   "id": "93fbd216",
   "metadata": {
    "scrolled": true
   },
   "outputs": [
    {
     "data": {
      "text/html": [
       "<div>\n",
       "<style scoped>\n",
       "    .dataframe tbody tr th:only-of-type {\n",
       "        vertical-align: middle;\n",
       "    }\n",
       "\n",
       "    .dataframe tbody tr th {\n",
       "        vertical-align: top;\n",
       "    }\n",
       "\n",
       "    .dataframe thead th {\n",
       "        text-align: right;\n",
       "    }\n",
       "</style>\n",
       "<table border=\"1\" class=\"dataframe\">\n",
       "  <thead>\n",
       "    <tr style=\"text-align: right;\">\n",
       "      <th></th>\n",
       "      <th>origin</th>\n",
       "      <th>cylinders</th>\n",
       "      <th>displacement</th>\n",
       "      <th>horsepower</th>\n",
       "      <th>weight</th>\n",
       "      <th>acceleration</th>\n",
       "      <th>year</th>\n",
       "      <th>name</th>\n",
       "      <th>Kilometer_per_liter</th>\n",
       "    </tr>\n",
       "  </thead>\n",
       "  <tbody>\n",
       "    <tr>\n",
       "      <th>322</th>\n",
       "      <td>3</td>\n",
       "      <td>4</td>\n",
       "      <td>86.0</td>\n",
       "      <td>65</td>\n",
       "      <td>2110</td>\n",
       "      <td>17.9</td>\n",
       "      <td>1980</td>\n",
       "      <td>mazda glc</td>\n",
       "      <td>19.811697</td>\n",
       "    </tr>\n",
       "  </tbody>\n",
       "</table>\n",
       "</div>"
      ],
      "text/plain": [
       "     origin  cylinders  displacement horsepower  weight  acceleration  year  \\\n",
       "322  3       4          86.0          65         2110    17.9          1980   \n",
       "\n",
       "          name  Kilometer_per_liter  \n",
       "322  mazda glc  19.811697            "
      ]
     },
     "execution_count": 167,
     "metadata": {},
     "output_type": "execute_result"
    }
   ],
   "source": [
    "df[df.Kilometer_per_liter > UL_k] "
   ]
  },
  {
   "cell_type": "code",
   "execution_count": 168,
   "id": "67f9c0ce",
   "metadata": {},
   "outputs": [],
   "source": [
    "df = df.drop([322])"
   ]
  },
  {
   "cell_type": "code",
   "execution_count": 169,
   "id": "e52779ef",
   "metadata": {},
   "outputs": [
    {
     "data": {
      "text/html": [
       "<div>\n",
       "<style scoped>\n",
       "    .dataframe tbody tr th:only-of-type {\n",
       "        vertical-align: middle;\n",
       "    }\n",
       "\n",
       "    .dataframe tbody tr th {\n",
       "        vertical-align: top;\n",
       "    }\n",
       "\n",
       "    .dataframe thead th {\n",
       "        text-align: right;\n",
       "    }\n",
       "</style>\n",
       "<table border=\"1\" class=\"dataframe\">\n",
       "  <thead>\n",
       "    <tr style=\"text-align: right;\">\n",
       "      <th></th>\n",
       "      <th>origin</th>\n",
       "      <th>cylinders</th>\n",
       "      <th>displacement</th>\n",
       "      <th>horsepower</th>\n",
       "      <th>weight</th>\n",
       "      <th>acceleration</th>\n",
       "      <th>year</th>\n",
       "      <th>name</th>\n",
       "      <th>Kilometer_per_liter</th>\n",
       "    </tr>\n",
       "  </thead>\n",
       "  <tbody>\n",
       "  </tbody>\n",
       "</table>\n",
       "</div>"
      ],
      "text/plain": [
       "Empty DataFrame\n",
       "Columns: [origin, cylinders, displacement, horsepower, weight, acceleration, year, name, Kilometer_per_liter]\n",
       "Index: []"
      ]
     },
     "execution_count": 169,
     "metadata": {},
     "output_type": "execute_result"
    }
   ],
   "source": [
    "df[df.Kilometer_per_liter > UL_k] "
   ]
  },
  {
   "cell_type": "code",
   "execution_count": 170,
   "id": "3fe36ac8",
   "metadata": {},
   "outputs": [
    {
     "data": {
      "text/plain": [
       "<AxesSubplot:xlabel='Kilometer_per_liter'>"
      ]
     },
     "execution_count": 170,
     "metadata": {},
     "output_type": "execute_result"
    },
    {
     "data": {
      "image/png": "[encoded data removed]",
      "text/plain": [
       "<Figure size 432x288 with 1 Axes>"
      ]
     },
     "metadata": {
      "needs_background": "light"
     },
     "output_type": "display_data"
    }
   ],
   "source": [
    "sns.boxplot(df.Kilometer_per_liter)"
   ]
  },
  {
   "cell_type": "markdown",
   "id": "02410ec3",
   "metadata": {},
   "source": [
    "## Origin"
   ]
  },
  {
   "cell_type": "code",
   "execution_count": 171,
   "id": "64441ce6",
   "metadata": {},
   "outputs": [
    {
     "data": {
      "text/plain": [
       "1    249\n",
       "3    78 \n",
       "2    70 \n",
       "Name: origin, dtype: int64"
      ]
     },
     "execution_count": 171,
     "metadata": {},
     "output_type": "execute_result"
    }
   ],
   "source": [
    "df.origin.value_counts()"
   ]
  },
  {
   "cell_type": "code",
   "execution_count": 172,
   "id": "31d8a5f7",
   "metadata": {},
   "outputs": [
    {
     "data": {
      "text/plain": [
       "0"
      ]
     },
     "execution_count": 172,
     "metadata": {},
     "output_type": "execute_result"
    }
   ],
   "source": [
    "df.origin.isnull().sum()"
   ]
  },
  {
   "cell_type": "code",
   "execution_count": 173,
   "id": "3dde1e60",
   "metadata": {},
   "outputs": [
    {
     "data": {
      "text/plain": [
       "<AxesSubplot:xlabel='origin', ylabel='count'>"
      ]
     },
     "execution_count": 173,
     "metadata": {},
     "output_type": "execute_result"
    },
    {
     "data": {
      "image/png": "[encoded data removed]",
      "text/plain": [
       "<Figure size 432x288 with 1 Axes>"
      ]
     },
     "metadata": {
      "needs_background": "light"
     },
     "output_type": "display_data"
    }
   ],
   "source": [
    "sns.countplot(df.origin, palette = 'gist_rainbow')"
   ]
  },
  {
   "cell_type": "code",
   "execution_count": 174,
   "id": "285e197e",
   "metadata": {},
   "outputs": [
    {
     "data": {
      "text/plain": [
       "<AxesSubplot:xlabel='origin'>"
      ]
     },
     "execution_count": 174,
     "metadata": {},
     "output_type": "execute_result"
    },
    {
     "data": {
      "image/png": "[encoded data removed]",
      "text/plain": [
       "<Figure size 432x288 with 1 Axes>"
      ]
     },
     "metadata": {
      "needs_background": "light"
     },
     "output_type": "display_data"
    }
   ],
   "source": [
    "sns.boxplot(df.origin, palette = 'gist_rainbow')"
   ]
  },
  {
   "cell_type": "code",
   "execution_count": 175,
   "id": "b42d79fc",
   "metadata": {
    "scrolled": true
   },
   "outputs": [
    {
     "data": {
      "text/plain": [
       "<AxesSubplot:title={'center':'Kilometer_per_liter'}, xlabel='origin'>"
      ]
     },
     "execution_count": 175,
     "metadata": {},
     "output_type": "execute_result"
    },
    {
     "data": {
      "image/png": "[encoded data removed]",
      "text/plain": [
       "<Figure size 432x288 with 1 Axes>"
      ]
     },
     "metadata": {
      "needs_background": "light"
     },
     "output_type": "display_data"
    }
   ],
   "source": [
    "df.boxplot(by ='origin', column =['Kilometer_per_liter'])"
   ]
  },
  {
   "cell_type": "code",
   "execution_count": 176,
   "id": "7bc85ee6",
   "metadata": {},
   "outputs": [
    {
     "data": {
      "text/html": [
       "<div>\n",
       "<style scoped>\n",
       "    .dataframe tbody tr th:only-of-type {\n",
       "        vertical-align: middle;\n",
       "    }\n",
       "\n",
       "    .dataframe tbody tr th {\n",
       "        vertical-align: top;\n",
       "    }\n",
       "\n",
       "    .dataframe thead th {\n",
       "        text-align: right;\n",
       "    }\n",
       "</style>\n",
       "<table border=\"1\" class=\"dataframe\">\n",
       "  <thead>\n",
       "    <tr style=\"text-align: right;\">\n",
       "      <th></th>\n",
       "      <th>df</th>\n",
       "      <th>sum_sq</th>\n",
       "      <th>mean_sq</th>\n",
       "      <th>F</th>\n",
       "      <th>PR(&gt;F)</th>\n",
       "    </tr>\n",
       "  </thead>\n",
       "  <tbody>\n",
       "    <tr>\n",
       "      <th>origin</th>\n",
       "      <td>1.0</td>\n",
       "      <td>1337.591446</td>\n",
       "      <td>1337.591446</td>\n",
       "      <td>179.136235</td>\n",
       "      <td>5.975511e-34</td>\n",
       "    </tr>\n",
       "    <tr>\n",
       "      <th>Residual</th>\n",
       "      <td>395.0</td>\n",
       "      <td>2949.423501</td>\n",
       "      <td>7.466895</td>\n",
       "      <td>NaN</td>\n",
       "      <td>NaN</td>\n",
       "    </tr>\n",
       "  </tbody>\n",
       "</table>\n",
       "</div>"
      ],
      "text/plain": [
       "             df       sum_sq      mean_sq           F        PR(>F)\n",
       "origin    1.0    1337.591446  1337.591446  179.136235  5.975511e-34\n",
       "Residual  395.0  2949.423501  7.466895    NaN         NaN          "
      ]
     },
     "execution_count": 176,
     "metadata": {},
     "output_type": "execute_result"
    }
   ],
   "source": [
    "mod = ols('Kilometer_per_liter ~ origin', data=df).fit()\n",
    "aov_table = sm.stats.anova_lm(mod)\n",
    "aov_table"
   ]
  },
  {
   "cell_type": "code",
   "execution_count": 177,
   "id": "b9e936ce",
   "metadata": {},
   "outputs": [
    {
     "name": "stdout",
     "output_type": "stream",
     "text": [
      "Multiple Comparison of Means - Tukey HSD, FWER=0.05\n",
      "===================================================\n",
      "group1 group2 meandiff p-adj   lower  upper  reject\n",
      "---------------------------------------------------\n",
      "     1      2   3.3195  0.001  2.4594 4.1795   True\n",
      "     1      3   4.3195  0.001  3.4946 5.1444   True\n",
      "     2      3      1.0 0.0647 -0.0466 2.0467  False\n",
      "---------------------------------------------------\n"
     ]
    }
   ],
   "source": [
    "t_org = pairwise_tukeyhsd(df.Kilometer_per_liter, df.origin, alpha = 0.05)\n",
    "print(t_org)"
   ]
  },
  {
   "cell_type": "code",
   "execution_count": 178,
   "id": "bc09c34f",
   "metadata": {},
   "outputs": [],
   "source": [
    "df.origin = df.get('origin').replace(3,2)"
   ]
  },
  {
   "cell_type": "code",
   "execution_count": 179,
   "id": "6b982add",
   "metadata": {},
   "outputs": [
    {
     "data": {
      "text/plain": [
       "1    249\n",
       "2    148\n",
       "Name: origin, dtype: int64"
      ]
     },
     "execution_count": 179,
     "metadata": {},
     "output_type": "execute_result"
    }
   ],
   "source": [
    "df.origin.value_counts()"
   ]
  },
  {
   "cell_type": "code",
   "execution_count": 180,
   "id": "ce4b0553",
   "metadata": {
    "scrolled": true
   },
   "outputs": [
    {
     "data": {
      "text/html": [
       "<div>\n",
       "<style scoped>\n",
       "    .dataframe tbody tr th:only-of-type {\n",
       "        vertical-align: middle;\n",
       "    }\n",
       "\n",
       "    .dataframe tbody tr th {\n",
       "        vertical-align: top;\n",
       "    }\n",
       "\n",
       "    .dataframe thead th {\n",
       "        text-align: right;\n",
       "    }\n",
       "</style>\n",
       "<table border=\"1\" class=\"dataframe\">\n",
       "  <thead>\n",
       "    <tr style=\"text-align: right;\">\n",
       "      <th></th>\n",
       "      <th>df</th>\n",
       "      <th>sum_sq</th>\n",
       "      <th>mean_sq</th>\n",
       "      <th>F</th>\n",
       "      <th>PR(&gt;F)</th>\n",
       "    </tr>\n",
       "  </thead>\n",
       "  <tbody>\n",
       "    <tr>\n",
       "      <th>origin</th>\n",
       "      <td>1.0</td>\n",
       "      <td>1373.421232</td>\n",
       "      <td>1373.421232</td>\n",
       "      <td>186.196649</td>\n",
       "      <td>5.276736e-35</td>\n",
       "    </tr>\n",
       "    <tr>\n",
       "      <th>Residual</th>\n",
       "      <td>395.0</td>\n",
       "      <td>2913.593716</td>\n",
       "      <td>7.376187</td>\n",
       "      <td>NaN</td>\n",
       "      <td>NaN</td>\n",
       "    </tr>\n",
       "  </tbody>\n",
       "</table>\n",
       "</div>"
      ],
      "text/plain": [
       "             df       sum_sq      mean_sq           F        PR(>F)\n",
       "origin    1.0    1373.421232  1373.421232  186.196649  5.276736e-35\n",
       "Residual  395.0  2913.593716  7.376187    NaN         NaN          "
      ]
     },
     "execution_count": 180,
     "metadata": {},
     "output_type": "execute_result"
    }
   ],
   "source": [
    "mod = ols('Kilometer_per_liter ~ origin', data=df).fit()\n",
    "aov_table = sm.stats.anova_lm(mod)\n",
    "aov_table"
   ]
  },
  {
   "cell_type": "code",
   "execution_count": 181,
   "id": "3d076a6c",
   "metadata": {
    "scrolled": true
   },
   "outputs": [
    {
     "name": "stdout",
     "output_type": "stream",
     "text": [
      "Multiple Comparison of Means - Tukey HSD, FWER=0.05\n",
      "=================================================\n",
      "group1 group2 meandiff p-adj lower  upper  reject\n",
      "-------------------------------------------------\n",
      "     1      2   3.8465 0.001 3.2923 4.4007   True\n",
      "-------------------------------------------------\n"
     ]
    }
   ],
   "source": [
    "t_org = pairwise_tukeyhsd(df.Kilometer_per_liter, df.origin, alpha = 0.05)\n",
    "print(t_org)"
   ]
  },
  {
   "cell_type": "code",
   "execution_count": 182,
   "id": "3baaf229",
   "metadata": {
    "scrolled": true
   },
   "outputs": [
    {
     "data": {
      "text/plain": [
       "<AxesSubplot:title={'center':'Kilometer_per_liter'}, xlabel='origin'>"
      ]
     },
     "execution_count": 182,
     "metadata": {},
     "output_type": "execute_result"
    },
    {
     "data": {
      "image/png": "[encoded data removed]",
      "text/plain": [
       "<Figure size 432x288 with 1 Axes>"
      ]
     },
     "metadata": {
      "needs_background": "light"
     },
     "output_type": "display_data"
    }
   ],
   "source": [
    "df.boxplot(by ='origin', column =['Kilometer_per_liter'])"
   ]
  },
  {
   "cell_type": "markdown",
   "id": "750259fa",
   "metadata": {},
   "source": [
    "#### Outliers for origin"
   ]
  },
  {
   "cell_type": "code",
   "execution_count": 183,
   "id": "79f9297d",
   "metadata": {},
   "outputs": [
    {
     "name": "stdout",
     "output_type": "stream",
     "text": [
      "2.0 1.0 1.0\n"
     ]
    }
   ],
   "source": [
    "Q3_o = df.origin.quantile(0.75)\n",
    "Q1_o = df.origin.quantile(0.25)\n",
    "IQR_o = Q3_o - Q1_o\n",
    "print(Q3_o,Q1_o,IQR_o)\n",
    "\n",
    "UL_o = Q3_o + (1.5*IQR_o)\n",
    "LL_o = Q1_o - (1.5*IQR_o)\n"
   ]
  },
  {
   "cell_type": "code",
   "execution_count": 184,
   "id": "6aa74a35",
   "metadata": {},
   "outputs": [
    {
     "data": {
      "text/plain": [
       "0"
      ]
     },
     "execution_count": 184,
     "metadata": {},
     "output_type": "execute_result"
    }
   ],
   "source": [
    "df.origin[(df.origin > UL_o)].value_counts().sum()"
   ]
  },
  {
   "cell_type": "code",
   "execution_count": 185,
   "id": "25c513a0",
   "metadata": {},
   "outputs": [
    {
     "data": {
      "text/plain": [
       "0"
      ]
     },
     "execution_count": 185,
     "metadata": {},
     "output_type": "execute_result"
    }
   ],
   "source": [
    "df.origin[(df.origin < LL_o)].value_counts().sum()"
   ]
  },
  {
   "cell_type": "markdown",
   "id": "8492c67d",
   "metadata": {},
   "source": [
    "## cylinders"
   ]
  },
  {
   "cell_type": "code",
   "execution_count": 186,
   "id": "6706771a",
   "metadata": {},
   "outputs": [
    {
     "data": {
      "text/plain": [
       "4    203\n",
       "8    103\n",
       "6    84 \n",
       "3    4  \n",
       "5    3  \n",
       "Name: cylinders, dtype: int64"
      ]
     },
     "execution_count": 186,
     "metadata": {},
     "output_type": "execute_result"
    }
   ],
   "source": [
    "df.cylinders.value_counts()"
   ]
  },
  {
   "cell_type": "code",
   "execution_count": 187,
   "id": "41649304",
   "metadata": {},
   "outputs": [
    {
     "data": {
      "text/plain": [
       "0"
      ]
     },
     "execution_count": 187,
     "metadata": {},
     "output_type": "execute_result"
    }
   ],
   "source": [
    "df.cylinders.isnull().sum()"
   ]
  },
  {
   "cell_type": "code",
   "execution_count": 188,
   "id": "206ba60a",
   "metadata": {},
   "outputs": [
    {
     "data": {
      "text/plain": [
       "count    397.000000\n",
       "mean     5.458438  \n",
       "std      1.701577  \n",
       "min      3.000000  \n",
       "25%      4.000000  \n",
       "50%      4.000000  \n",
       "75%      8.000000  \n",
       "max      8.000000  \n",
       "Name: cylinders, dtype: float64"
      ]
     },
     "execution_count": 188,
     "metadata": {},
     "output_type": "execute_result"
    }
   ],
   "source": [
    "df.cylinders.describe()"
   ]
  },
  {
   "cell_type": "code",
   "execution_count": 189,
   "id": "83d1b3e1",
   "metadata": {},
   "outputs": [
    {
     "data": {
      "text/plain": [
       "<AxesSubplot:xlabel='cylinders', ylabel='count'>"
      ]
     },
     "execution_count": 189,
     "metadata": {},
     "output_type": "execute_result"
    },
    {
     "data": {
      "image/png": "[encoded data removed]",
      "text/plain": [
       "<Figure size 432x288 with 1 Axes>"
      ]
     },
     "metadata": {
      "needs_background": "light"
     },
     "output_type": "display_data"
    }
   ],
   "source": [
    "sns.countplot(df.cylinders)"
   ]
  },
  {
   "cell_type": "code",
   "execution_count": 190,
   "id": "3f97027d",
   "metadata": {},
   "outputs": [
    {
     "data": {
      "text/plain": [
       "<AxesSubplot:title={'center':'Kilometer_per_liter'}, xlabel='cylinders'>"
      ]
     },
     "execution_count": 190,
     "metadata": {},
     "output_type": "execute_result"
    },
    {
     "data": {
      "image/png": "[encoded data removed]",
      "text/plain": [
       "<Figure size 432x288 with 1 Axes>"
      ]
     },
     "metadata": {
      "needs_background": "light"
     },
     "output_type": "display_data"
    }
   ],
   "source": [
    "df.boxplot(by = 'cylinders', column = ['Kilometer_per_liter'])"
   ]
  },
  {
   "cell_type": "code",
   "execution_count": 191,
   "id": "81f3bb52",
   "metadata": {},
   "outputs": [
    {
     "data": {
      "text/plain": [
       "<AxesSubplot:xlabel='cylinders'>"
      ]
     },
     "execution_count": 191,
     "metadata": {},
     "output_type": "execute_result"
    },
    {
     "data": {
      "image/png": "[encoded data removed]",
      "text/plain": [
       "<Figure size 432x288 with 1 Axes>"
      ]
     },
     "metadata": {
      "needs_background": "light"
     },
     "output_type": "display_data"
    }
   ],
   "source": [
    "sns.boxplot(df.cylinders)"
   ]
  },
  {
   "cell_type": "code",
   "execution_count": 192,
   "id": "4c3282d1",
   "metadata": {},
   "outputs": [
    {
     "data": {
      "text/html": [
       "<div>\n",
       "<style scoped>\n",
       "    .dataframe tbody tr th:only-of-type {\n",
       "        vertical-align: middle;\n",
       "    }\n",
       "\n",
       "    .dataframe tbody tr th {\n",
       "        vertical-align: top;\n",
       "    }\n",
       "\n",
       "    .dataframe thead th {\n",
       "        text-align: right;\n",
       "    }\n",
       "</style>\n",
       "<table border=\"1\" class=\"dataframe\">\n",
       "  <thead>\n",
       "    <tr style=\"text-align: right;\">\n",
       "      <th></th>\n",
       "      <th>df</th>\n",
       "      <th>sum_sq</th>\n",
       "      <th>mean_sq</th>\n",
       "      <th>F</th>\n",
       "      <th>PR(&gt;F)</th>\n",
       "    </tr>\n",
       "  </thead>\n",
       "  <tbody>\n",
       "    <tr>\n",
       "      <th>cylinders</th>\n",
       "      <td>1.0</td>\n",
       "      <td>2597.195216</td>\n",
       "      <td>2597.195216</td>\n",
       "      <td>607.10151</td>\n",
       "      <td>7.233448e-82</td>\n",
       "    </tr>\n",
       "    <tr>\n",
       "      <th>Residual</th>\n",
       "      <td>395.0</td>\n",
       "      <td>1689.819732</td>\n",
       "      <td>4.278025</td>\n",
       "      <td>NaN</td>\n",
       "      <td>NaN</td>\n",
       "    </tr>\n",
       "  </tbody>\n",
       "</table>\n",
       "</div>"
      ],
      "text/plain": [
       "              df       sum_sq      mean_sq          F        PR(>F)\n",
       "cylinders  1.0    2597.195216  2597.195216  607.10151  7.233448e-82\n",
       "Residual   395.0  1689.819732  4.278025    NaN        NaN          "
      ]
     },
     "execution_count": 192,
     "metadata": {},
     "output_type": "execute_result"
    }
   ],
   "source": [
    "mod = ols('Kilometer_per_liter ~ cylinders', data=df).fit()\n",
    "aov_table = sm.stats.anova_lm(mod)\n",
    "aov_table"
   ]
  },
  {
   "cell_type": "code",
   "execution_count": 193,
   "id": "e5baeb8f",
   "metadata": {},
   "outputs": [
    {
     "name": "stdout",
     "output_type": "stream",
     "text": [
      "Multiple Comparison of Means - Tukey HSD, FWER=0.05 \n",
      "====================================================\n",
      "group1 group2 meandiff p-adj   lower   upper  reject\n",
      "----------------------------------------------------\n",
      "     3      4   3.6781 0.0025  0.9393  6.4169   True\n",
      "     3      5   2.8981   0.31 -1.2449   7.041  False\n",
      "     3      6  -0.2399    0.9 -3.0159  2.5361  False\n",
      "     3      8  -2.3752 0.1299 -5.1396  0.3891  False\n",
      "     4      5  -0.7801    0.9 -3.9349  2.3748  False\n",
      "     4      6   -3.918  0.001 -4.6218 -3.2143   True\n",
      "     4      8  -6.0534  0.001 -6.7096 -5.3971   True\n",
      "     5      6   -3.138 0.0561 -6.3252  0.0493  False\n",
      "     5      8  -5.2733  0.001 -8.4504 -2.0962   True\n",
      "     6      8  -2.1353  0.001 -2.9328 -1.3379   True\n",
      "----------------------------------------------------\n"
     ]
    }
   ],
   "source": [
    "t_cy = pairwise_tukeyhsd(df.Kilometer_per_liter, df.cylinders, alpha=0.05)\n",
    "print(t_cy)"
   ]
  },
  {
   "cell_type": "code",
   "execution_count": 194,
   "id": "0720d68c",
   "metadata": {},
   "outputs": [],
   "source": [
    "df.cylinders = df.get('cylinders').replace(5,3)\n",
    "df.cylinders = df.get('cylinders').replace(6,3)\n",
    "df.cylinders = df.get('cylinders').replace(8,3)"
   ]
  },
  {
   "cell_type": "code",
   "execution_count": 195,
   "id": "efb5c4da",
   "metadata": {},
   "outputs": [
    {
     "data": {
      "text/plain": [
       "4    203\n",
       "3    194\n",
       "Name: cylinders, dtype: int64"
      ]
     },
     "execution_count": 195,
     "metadata": {},
     "output_type": "execute_result"
    }
   ],
   "source": [
    "df.cylinders.value_counts()"
   ]
  },
  {
   "cell_type": "code",
   "execution_count": 196,
   "id": "653e7e27",
   "metadata": {
    "scrolled": true
   },
   "outputs": [
    {
     "data": {
      "text/plain": [
       "<AxesSubplot:xlabel='cylinders', ylabel='count'>"
      ]
     },
     "execution_count": 196,
     "metadata": {},
     "output_type": "execute_result"
    },
    {
     "data": {
      "image/png": "[encoded data removed]",
      "text/plain": [
       "<Figure size 432x288 with 1 Axes>"
      ]
     },
     "metadata": {
      "needs_background": "light"
     },
     "output_type": "display_data"
    }
   ],
   "source": [
    "sns.countplot(df.cylinders)"
   ]
  },
  {
   "cell_type": "code",
   "execution_count": 197,
   "id": "edcb7d85",
   "metadata": {
    "scrolled": true
   },
   "outputs": [
    {
     "data": {
      "text/html": [
       "<div>\n",
       "<style scoped>\n",
       "    .dataframe tbody tr th:only-of-type {\n",
       "        vertical-align: middle;\n",
       "    }\n",
       "\n",
       "    .dataframe tbody tr th {\n",
       "        vertical-align: top;\n",
       "    }\n",
       "\n",
       "    .dataframe thead th {\n",
       "        text-align: right;\n",
       "    }\n",
       "</style>\n",
       "<table border=\"1\" class=\"dataframe\">\n",
       "  <thead>\n",
       "    <tr style=\"text-align: right;\">\n",
       "      <th></th>\n",
       "      <th>df</th>\n",
       "      <th>sum_sq</th>\n",
       "      <th>mean_sq</th>\n",
       "      <th>F</th>\n",
       "      <th>PR(&gt;F)</th>\n",
       "    </tr>\n",
       "  </thead>\n",
       "  <tbody>\n",
       "    <tr>\n",
       "      <th>cylinders</th>\n",
       "      <td>1.0</td>\n",
       "      <td>2478.247379</td>\n",
       "      <td>2478.247379</td>\n",
       "      <td>541.201496</td>\n",
       "      <td>5.058952e-76</td>\n",
       "    </tr>\n",
       "    <tr>\n",
       "      <th>Residual</th>\n",
       "      <td>395.0</td>\n",
       "      <td>1808.767569</td>\n",
       "      <td>4.579158</td>\n",
       "      <td>NaN</td>\n",
       "      <td>NaN</td>\n",
       "    </tr>\n",
       "  </tbody>\n",
       "</table>\n",
       "</div>"
      ],
      "text/plain": [
       "              df       sum_sq      mean_sq           F        PR(>F)\n",
       "cylinders  1.0    2478.247379  2478.247379  541.201496  5.058952e-76\n",
       "Residual   395.0  1808.767569  4.579158    NaN         NaN          "
      ]
     },
     "execution_count": 197,
     "metadata": {},
     "output_type": "execute_result"
    }
   ],
   "source": [
    "mod = ols('Kilometer_per_liter ~ cylinders', data=df).fit()\n",
    "aov_table = sm.stats.anova_lm(mod)\n",
    "aov_table"
   ]
  },
  {
   "cell_type": "code",
   "execution_count": 198,
   "id": "f8db257b",
   "metadata": {
    "scrolled": true
   },
   "outputs": [
    {
     "name": "stdout",
     "output_type": "stream",
     "text": [
      "Multiple Comparison of Means - Tukey HSD, FWER=0.05\n",
      "=================================================\n",
      "group1 group2 meandiff p-adj lower  upper  reject\n",
      "-------------------------------------------------\n",
      "     3      4   4.9983 0.001 4.5759 5.4207   True\n",
      "-------------------------------------------------\n"
     ]
    }
   ],
   "source": [
    "t_cy = pairwise_tukeyhsd(df.Kilometer_per_liter, df.cylinders, alpha=0.05)\n",
    "print(t_cy)"
   ]
  },
  {
   "cell_type": "code",
   "execution_count": 199,
   "id": "d0a9fcb3",
   "metadata": {},
   "outputs": [
    {
     "data": {
      "text/plain": [
       "<AxesSubplot:title={'center':'Kilometer_per_liter'}, xlabel='cylinders'>"
      ]
     },
     "execution_count": 199,
     "metadata": {},
     "output_type": "execute_result"
    },
    {
     "data": {
      "image/png": "[encoded data removed]",
      "text/plain": [
       "<Figure size 432x288 with 1 Axes>"
      ]
     },
     "metadata": {
      "needs_background": "light"
     },
     "output_type": "display_data"
    }
   ],
   "source": [
    "df.boxplot(by = 'cylinders', column = ['Kilometer_per_liter'])"
   ]
  },
  {
   "cell_type": "markdown",
   "id": "f2e01ea7",
   "metadata": {},
   "source": [
    "### Outliers Of Cylinders"
   ]
  },
  {
   "cell_type": "code",
   "execution_count": 200,
   "id": "3664646f",
   "metadata": {},
   "outputs": [
    {
     "name": "stdout",
     "output_type": "stream",
     "text": [
      "4.0 3.0 1.0\n"
     ]
    }
   ],
   "source": [
    "Q3_c = df.cylinders.quantile(0.75)\n",
    "Q1_c = df.cylinders.quantile(0.25)\n",
    "IQR_c = Q3_c - Q1_c\n",
    "print(Q3_c,Q1_c,IQR_c)\n",
    "\n",
    "UL_c = Q3_c + (1.5*IQR_c)\n",
    "LL_c = Q1_c - (1.5*IQR_c)\n"
   ]
  },
  {
   "cell_type": "code",
   "execution_count": 201,
   "id": "a4416b5a",
   "metadata": {},
   "outputs": [
    {
     "data": {
      "text/plain": [
       "0"
      ]
     },
     "execution_count": 201,
     "metadata": {},
     "output_type": "execute_result"
    }
   ],
   "source": [
    "df.cylinders[(df.cylinders > UL_c)].value_counts().sum()"
   ]
  },
  {
   "cell_type": "code",
   "execution_count": 202,
   "id": "1297e7ac",
   "metadata": {},
   "outputs": [
    {
     "data": {
      "text/plain": [
       "0"
      ]
     },
     "execution_count": 202,
     "metadata": {},
     "output_type": "execute_result"
    }
   ],
   "source": [
    "df.cylinders[(df.cylinders < LL_c)].value_counts().sum()"
   ]
  },
  {
   "cell_type": "markdown",
   "id": "a60d9cd4",
   "metadata": {},
   "source": [
    "## displacement"
   ]
  },
  {
   "cell_type": "code",
   "execution_count": 203,
   "id": "7450fae5",
   "metadata": {},
   "outputs": [
    {
     "data": {
      "text/plain": [
       "97.0     21\n",
       "350.0    18\n",
       "98.0     18\n",
       "318.0    17\n",
       "250.0    17\n",
       "140.0    16\n",
       "225.0    13\n",
       "400.0    13\n",
       "91.0     12\n",
       "232.0    11\n",
       "302.0    11\n",
       "121.0    11\n",
       "151.0    10\n",
       "120.0    9 \n",
       "90.0     8 \n",
       "231.0    8 \n",
       "351.0    8 \n",
       "85.0     8 \n",
       "200.0    8 \n",
       "105.0    7 \n",
       "304.0    7 \n",
       "122.0    7 \n",
       "79.0     6 \n",
       "156.0    6 \n",
       "119.0    6 \n",
       "258.0    5 \n",
       "107.0    5 \n",
       "135.0    5 \n",
       "108.0    5 \n",
       "89.0     5 \n",
       "116.0    4 \n",
       "134.0    4 \n",
       "305.0    4 \n",
       "112.0    4 \n",
       "360.0    4 \n",
       "173.0    3 \n",
       "260.0    3 \n",
       "113.0    3 \n",
       "198.0    3 \n",
       "168.0    3 \n",
       "70.0     3 \n",
       "307.0    3 \n",
       "455.0    3 \n",
       "146.0    3 \n",
       "86.0     3 \n",
       "429.0    3 \n",
       "262.0    2 \n",
       "71.0     2 \n",
       "383.0    2 \n",
       "163.0    2 \n",
       "440.0    2 \n",
       "199.0    2 \n",
       "141.0    2 \n",
       "171.0    1 \n",
       "76.0     1 \n",
       "114.0    1 \n",
       "88.0     1 \n",
       "115.0    1 \n",
       "130.0    1 \n",
       "96.0     1 \n",
       "72.0     1 \n",
       "111.0    1 \n",
       "81.0     1 \n",
       "145.0    1 \n",
       "181.0    1 \n",
       "454.0    1 \n",
       "183.0    1 \n",
       "340.0    1 \n",
       "131.0    1 \n",
       "83.0     1 \n",
       "110.0    1 \n",
       "78.0     1 \n",
       "267.0    1 \n",
       "80.0     1 \n",
       "144.0    1 \n",
       "104.0    1 \n",
       "101.0    1 \n",
       "68.0     1 \n",
       "390.0    1 \n",
       "97.5     1 \n",
       "155.0    1 \n",
       "100.0    1 \n",
       "Name: displacement, dtype: int64"
      ]
     },
     "execution_count": 203,
     "metadata": {},
     "output_type": "execute_result"
    }
   ],
   "source": [
    "df.displacement.value_counts()"
   ]
  },
  {
   "cell_type": "code",
   "execution_count": 204,
   "id": "b9395340",
   "metadata": {},
   "outputs": [
    {
     "data": {
      "text/plain": [
       "397"
      ]
     },
     "execution_count": 204,
     "metadata": {},
     "output_type": "execute_result"
    }
   ],
   "source": [
    "df.displacement.value_counts().sum()"
   ]
  },
  {
   "cell_type": "code",
   "execution_count": 205,
   "id": "68c2b3fa",
   "metadata": {},
   "outputs": [
    {
     "data": {
      "text/plain": [
       "<AxesSubplot:xlabel='displacement', ylabel='count'>"
      ]
     },
     "execution_count": 205,
     "metadata": {},
     "output_type": "execute_result"
    },
    {
     "data": {
      "image/png": "[encoded data removed]",
      "text/plain": [
       "<Figure size 432x288 with 1 Axes>"
      ]
     },
     "metadata": {
      "needs_background": "light"
     },
     "output_type": "display_data"
    }
   ],
   "source": [
    "sns.countplot(df.displacement)"
   ]
  },
  {
   "cell_type": "code",
   "execution_count": 206,
   "id": "5f46f808",
   "metadata": {},
   "outputs": [
    {
     "data": {
      "text/plain": [
       "<AxesSubplot:xlabel='displacement'>"
      ]
     },
     "execution_count": 206,
     "metadata": {},
     "output_type": "execute_result"
    },
    {
     "data": {
      "image/png": "[encoded data removed]",
      "text/plain": [
       "<Figure size 432x288 with 1 Axes>"
      ]
     },
     "metadata": {
      "needs_background": "light"
     },
     "output_type": "display_data"
    }
   ],
   "source": [
    "sns.boxplot(df.displacement)"
   ]
  },
  {
   "cell_type": "code",
   "execution_count": 207,
   "id": "ee985629",
   "metadata": {},
   "outputs": [
    {
     "data": {
      "text/plain": [
       "count    397.000000\n",
       "mean     193.696474\n",
       "std      104.261395\n",
       "min      68.000000 \n",
       "25%      105.000000\n",
       "50%      151.000000\n",
       "75%      262.000000\n",
       "max      455.000000\n",
       "Name: displacement, dtype: float64"
      ]
     },
     "execution_count": 207,
     "metadata": {},
     "output_type": "execute_result"
    }
   ],
   "source": [
    "df.displacement.describe()"
   ]
  },
  {
   "cell_type": "code",
   "execution_count": 208,
   "id": "0453d53e",
   "metadata": {
    "scrolled": true
   },
   "outputs": [
    {
     "data": {
      "text/plain": [
       "<AxesSubplot:xlabel='displacement', ylabel='Density'>"
      ]
     },
     "execution_count": 208,
     "metadata": {},
     "output_type": "execute_result"
    },
    {
     "data": {
      "image/png": "[encoded data removed]",
      "text/plain": [
       "<Figure size 432x288 with 1 Axes>"
      ]
     },
     "metadata": {
      "needs_background": "light"
     },
     "output_type": "display_data"
    }
   ],
   "source": [
    "sns.distplot(df.displacement)"
   ]
  },
  {
   "cell_type": "code",
   "execution_count": 209,
   "id": "6c2e2793",
   "metadata": {},
   "outputs": [],
   "source": [
    "df['displacement'] = np.log(df['displacement'])"
   ]
  },
  {
   "cell_type": "code",
   "execution_count": 210,
   "id": "fae13953",
   "metadata": {},
   "outputs": [
    {
     "data": {
      "text/plain": [
       "<AxesSubplot:xlabel='displacement', ylabel='Density'>"
      ]
     },
     "execution_count": 210,
     "metadata": {},
     "output_type": "execute_result"
    },
    {
     "data": {
      "image/png": "[encoded data removed]",
      "text/plain": [
       "<Figure size 432x288 with 1 Axes>"
      ]
     },
     "metadata": {
      "needs_background": "light"
     },
     "output_type": "display_data"
    }
   ],
   "source": [
    "sns.distplot(df.displacement)"
   ]
  },
  {
   "cell_type": "code",
   "execution_count": 211,
   "id": "13054502",
   "metadata": {},
   "outputs": [
    {
     "data": {
      "text/plain": [
       "4.574711    21\n",
       "5.857933    18\n",
       "4.584967    18\n",
       "5.521461    17\n",
       "5.762051    17\n",
       "4.941642    16\n",
       "5.416100    13\n",
       "5.991465    13\n",
       "4.510860    12\n",
       "5.710427    11\n",
       "5.446737    11\n",
       "4.795791    11\n",
       "5.017280    10\n",
       "4.787492    9 \n",
       "4.442651    8 \n",
       "5.298317    8 \n",
       "5.442418    8 \n",
       "5.860786    8 \n",
       "4.499810    8 \n",
       "4.653960    7 \n",
       "5.717028    7 \n",
       "4.804021    7 \n",
       "4.779123    6 \n",
       "4.369448    6 \n",
       "5.049856    6 \n",
       "4.682131    5 \n",
       "4.488636    5 \n",
       "5.552960    5 \n",
       "4.672829    5 \n",
       "4.905275    5 \n",
       "4.897840    4 \n",
       "4.718499    4 \n",
       "4.753590    4 \n",
       "5.886104    4 \n",
       "5.720312    4 \n",
       "5.123964    3 \n",
       "5.726848    3 \n",
       "6.120297    3 \n",
       "6.061457    3 \n",
       "4.248495    3 \n",
       "4.727388    3 \n",
       "5.560682    3 \n",
       "5.153292    3 \n",
       "4.454347    3 \n",
       "4.983607    3 \n",
       "5.288267    3 \n",
       "5.093750    2 \n",
       "5.293305    2 \n",
       "4.948760    2 \n",
       "5.948035    2 \n",
       "6.086775    2 \n",
       "4.262680    2 \n",
       "5.568345    2 \n",
       "4.477337    1 \n",
       "4.394449    1 \n",
       "4.644391    1 \n",
       "5.141664    1 \n",
       "4.969813    1 \n",
       "5.587249    1 \n",
       "5.209486    1 \n",
       "4.219508    1 \n",
       "4.736198    1 \n",
       "4.875197    1 \n",
       "5.966147    1 \n",
       "4.564348    1 \n",
       "4.709530    1 \n",
       "4.418841    1 \n",
       "6.118097    1 \n",
       "4.605170    1 \n",
       "4.867534    1 \n",
       "4.579852    1 \n",
       "4.976734    1 \n",
       "4.330733    1 \n",
       "5.828946    1 \n",
       "4.744932    1 \n",
       "5.043425    1 \n",
       "4.356709    1 \n",
       "4.615121    1 \n",
       "4.276666    1 \n",
       "5.198497    1 \n",
       "4.700480    1 \n",
       "4.382027    1 \n",
       "Name: displacement, dtype: int64"
      ]
     },
     "execution_count": 211,
     "metadata": {},
     "output_type": "execute_result"
    }
   ],
   "source": [
    "df.displacement.value_counts()"
   ]
  },
  {
   "cell_type": "code",
   "execution_count": 212,
   "id": "35ed1de4",
   "metadata": {},
   "outputs": [
    {
     "name": "stdout",
     "output_type": "stream",
     "text": [
      "Pearsons correlation: -0.830\n"
     ]
    }
   ],
   "source": [
    "from scipy.stats import pearsonr\n",
    "corr, _ = pearsonr(df.displacement,df.Kilometer_per_liter)\n",
    "print('Pearsons correlation: %.3f' % corr)\n",
    "\n"
   ]
  },
  {
   "cell_type": "markdown",
   "id": "58a06bf2",
   "metadata": {},
   "source": [
    "#### As there is negative correlation between Displacement and Km/ltr its a bad predictor"
   ]
  },
  {
   "cell_type": "markdown",
   "id": "96182b39",
   "metadata": {},
   "source": [
    "## Horsepower"
   ]
  },
  {
   "cell_type": "code",
   "execution_count": 213,
   "id": "b88c0eb6",
   "metadata": {},
   "outputs": [
    {
     "data": {
      "text/plain": [
       "150    22\n",
       "90     20\n",
       "88     19\n",
       "110    18\n",
       "100    17\n",
       "75     14\n",
       "95     14\n",
       "70     12\n",
       "67     12\n",
       "105    12\n",
       "97     9 \n",
       "65     9 \n",
       "85     9 \n",
       "140    7 \n",
       "145    7 \n",
       "80     7 \n",
       "72     6 \n",
       "68     6 \n",
       "84     6 \n",
       "92     6 \n",
       "78     6 \n",
       "?      6 \n",
       "71     5 \n",
       "170    5 \n",
       "175    5 \n",
       "86     5 \n",
       "180    5 \n",
       "115    5 \n",
       "130    5 \n",
       "60     5 \n",
       "52     4 \n",
       "120    4 \n",
       "165    4 \n",
       "76     4 \n",
       "83     4 \n",
       "48     3 \n",
       "125    3 \n",
       "215    3 \n",
       "190    3 \n",
       "96     3 \n",
       "112    3 \n",
       "74     3 \n",
       "63     3 \n",
       "225    3 \n",
       "69     3 \n",
       "139    2 \n",
       "160    2 \n",
       "46     2 \n",
       "79     2 \n",
       "87     2 \n",
       "198    2 \n",
       "98     2 \n",
       "58     2 \n",
       "81     2 \n",
       "155    2 \n",
       "62     2 \n",
       "129    2 \n",
       "53     2 \n",
       "153    2 \n",
       "107    1 \n",
       "94     1 \n",
       "116    1 \n",
       "64     1 \n",
       "138    1 \n",
       "66     1 \n",
       "103    1 \n",
       "122    1 \n",
       "149    1 \n",
       "135    1 \n",
       "77     1 \n",
       "142    1 \n",
       "91     1 \n",
       "133    1 \n",
       "158    1 \n",
       "230    1 \n",
       "102    1 \n",
       "152    1 \n",
       "167    1 \n",
       "193    1 \n",
       "200    1 \n",
       "113    1 \n",
       "132    1 \n",
       "61     1 \n",
       "220    1 \n",
       "89     1 \n",
       "208    1 \n",
       "54     1 \n",
       "82     1 \n",
       "210    1 \n",
       "49     1 \n",
       "108    1 \n",
       "148    1 \n",
       "137    1 \n",
       "93     1 \n",
       "Name: horsepower, dtype: int64"
      ]
     },
     "execution_count": 213,
     "metadata": {},
     "output_type": "execute_result"
    }
   ],
   "source": [
    "df.horsepower.value_counts()"
   ]
  },
  {
   "cell_type": "code",
   "execution_count": 214,
   "id": "ebd8ac75",
   "metadata": {},
   "outputs": [
    {
     "data": {
      "text/plain": [
       "397"
      ]
     },
     "execution_count": 214,
     "metadata": {},
     "output_type": "execute_result"
    }
   ],
   "source": [
    "df.horsepower.value_counts().sum()"
   ]
  },
  {
   "cell_type": "code",
   "execution_count": 215,
   "id": "a246b72a",
   "metadata": {},
   "outputs": [
    {
     "data": {
      "text/plain": [
       "0"
      ]
     },
     "execution_count": 215,
     "metadata": {},
     "output_type": "execute_result"
    }
   ],
   "source": [
    "df.horsepower.isnull().sum()"
   ]
  },
  {
   "cell_type": "code",
   "execution_count": 216,
   "id": "11ce8877",
   "metadata": {},
   "outputs": [
    {
     "data": {
      "text/plain": [
       "count     397\n",
       "unique    94 \n",
       "top       150\n",
       "freq      22 \n",
       "Name: horsepower, dtype: object"
      ]
     },
     "execution_count": 216,
     "metadata": {},
     "output_type": "execute_result"
    }
   ],
   "source": [
    "df.horsepower.describe()"
   ]
  },
  {
   "cell_type": "code",
   "execution_count": 217,
   "id": "633262f9",
   "metadata": {},
   "outputs": [
    {
     "data": {
      "text/plain": [
       "array(['130', '165', '150', '140', '198', '220', '215', '225', '190',\n",
       "       '170', '160', '95', '97', '85', '88', '46', '87', '90', '113',\n",
       "       '200', '210', '193', '?', '100', '105', '175', '153', '180', '110',\n",
       "       '72', '86', '70', '76', '65', '69', '60', '80', '54', '208', '155',\n",
       "       '112', '92', '145', '137', '158', '167', '94', '107', '230', '49',\n",
       "       '75', '91', '122', '67', '83', '78', '52', '61', '93', '148',\n",
       "       '129', '96', '71', '98', '115', '53', '81', '79', '120', '152',\n",
       "       '102', '108', '68', '58', '149', '89', '63', '48', '66', '139',\n",
       "       '103', '125', '133', '138', '135', '142', '77', '62', '132', '84',\n",
       "       '64', '74', '116', '82'], dtype=object)"
      ]
     },
     "execution_count": 217,
     "metadata": {},
     "output_type": "execute_result"
    }
   ],
   "source": [
    "df.horsepower.unique()"
   ]
  },
  {
   "cell_type": "code",
   "execution_count": 218,
   "id": "2904b74e",
   "metadata": {},
   "outputs": [
    {
     "data": {
      "text/plain": [
       "0"
      ]
     },
     "execution_count": 218,
     "metadata": {},
     "output_type": "execute_result"
    }
   ],
   "source": [
    "df.horsepower.isnull().sum()"
   ]
  },
  {
   "cell_type": "code",
   "execution_count": 219,
   "id": "9bff51f2",
   "metadata": {},
   "outputs": [],
   "source": [
    "df.horsepower = df.horsepower.replace('?','92')\n",
    "df[\"horsepower\"] = df[\"horsepower\"].astype(str).astype(int)"
   ]
  },
  {
   "cell_type": "code",
   "execution_count": 220,
   "id": "16b431a0",
   "metadata": {},
   "outputs": [
    {
     "data": {
      "text/plain": [
       "<AxesSubplot:xlabel='horsepower', ylabel='count'>"
      ]
     },
     "execution_count": 220,
     "metadata": {},
     "output_type": "execute_result"
    },
    {
     "data": {
      "image/png": "[encoded data removed]",
      "text/plain": [
       "<Figure size 432x288 with 1 Axes>"
      ]
     },
     "metadata": {
      "needs_background": "light"
     },
     "output_type": "display_data"
    }
   ],
   "source": [
    "sns.countplot(df.horsepower)"
   ]
  },
  {
   "cell_type": "code",
   "execution_count": 221,
   "id": "cd2272cd",
   "metadata": {},
   "outputs": [
    {
     "data": {
      "text/plain": [
       "<AxesSubplot:xlabel='Kilometer_per_liter', ylabel='horsepower'>"
      ]
     },
     "execution_count": 221,
     "metadata": {},
     "output_type": "execute_result"
    },
    {
     "data": {
      "image/png": "[encoded data removed]",
      "text/plain": [
       "<Figure size 432x288 with 1 Axes>"
      ]
     },
     "metadata": {
      "needs_background": "light"
     },
     "output_type": "display_data"
    }
   ],
   "source": [
    "sns.scatterplot(df.Kilometer_per_liter,df.horsepower)"
   ]
  },
  {
   "cell_type": "code",
   "execution_count": 222,
   "id": "3ee47801",
   "metadata": {
    "scrolled": true
   },
   "outputs": [
    {
     "data": {
      "text/plain": [
       "<AxesSubplot:xlabel='horsepower', ylabel='Density'>"
      ]
     },
     "execution_count": 222,
     "metadata": {},
     "output_type": "execute_result"
    },
    {
     "data": {
      "image/png": "[encoded data removed]",
      "text/plain": [
       "<Figure size 432x288 with 1 Axes>"
      ]
     },
     "metadata": {
      "needs_background": "light"
     },
     "output_type": "display_data"
    }
   ],
   "source": [
    "sns.distplot(df.horsepower)"
   ]
  },
  {
   "cell_type": "code",
   "execution_count": 223,
   "id": "eb456c4c",
   "metadata": {},
   "outputs": [
    {
     "data": {
      "text/plain": [
       "<AxesSubplot:xlabel='horsepower'>"
      ]
     },
     "execution_count": 223,
     "metadata": {},
     "output_type": "execute_result"
    },
    {
     "data": {
      "image/png": "[encoded data removed]",
      "text/plain": [
       "<Figure size 432x288 with 1 Axes>"
      ]
     },
     "metadata": {
      "needs_background": "light"
     },
     "output_type": "display_data"
    }
   ],
   "source": [
    "sns.boxplot(df.horsepower)"
   ]
  },
  {
   "cell_type": "code",
   "execution_count": 224,
   "id": "2717f609",
   "metadata": {},
   "outputs": [
    {
     "name": "stdout",
     "output_type": "stream",
     "text": [
      "125.0 76.0 49.0\n"
     ]
    }
   ],
   "source": [
    "Q3_h = df.horsepower.quantile(0.75)\n",
    "Q1_h = df.horsepower.quantile(0.25)\n",
    "IQR_h = Q3_h - Q1_h\n",
    "print(Q3_h,Q1_h,IQR_h)\n",
    "\n",
    "UL_h = Q3_h + (1.5*IQR_h)\n",
    "LL_h = Q1_h - (1.5*IQR_h)\n"
   ]
  },
  {
   "cell_type": "code",
   "execution_count": 225,
   "id": "fe49f67a",
   "metadata": {},
   "outputs": [
    {
     "data": {
      "text/plain": [
       "11"
      ]
     },
     "execution_count": 225,
     "metadata": {},
     "output_type": "execute_result"
    }
   ],
   "source": [
    "df.horsepower[(df.horsepower > UL_h)].value_counts().sum()"
   ]
  },
  {
   "cell_type": "code",
   "execution_count": 226,
   "id": "60476e83",
   "metadata": {},
   "outputs": [
    {
     "data": {
      "text/plain": [
       "0"
      ]
     },
     "execution_count": 226,
     "metadata": {},
     "output_type": "execute_result"
    }
   ],
   "source": [
    "df.horsepower[(df.horsepower < LL_h)].value_counts().sum()"
   ]
  },
  {
   "cell_type": "code",
   "execution_count": 227,
   "id": "e5b8fe13",
   "metadata": {
    "scrolled": true
   },
   "outputs": [
    {
     "data": {
      "text/html": [
       "<div>\n",
       "<style scoped>\n",
       "    .dataframe tbody tr th:only-of-type {\n",
       "        vertical-align: middle;\n",
       "    }\n",
       "\n",
       "    .dataframe tbody tr th {\n",
       "        vertical-align: top;\n",
       "    }\n",
       "\n",
       "    .dataframe thead th {\n",
       "        text-align: right;\n",
       "    }\n",
       "</style>\n",
       "<table border=\"1\" class=\"dataframe\">\n",
       "  <thead>\n",
       "    <tr style=\"text-align: right;\">\n",
       "      <th></th>\n",
       "      <th>origin</th>\n",
       "      <th>cylinders</th>\n",
       "      <th>displacement</th>\n",
       "      <th>horsepower</th>\n",
       "      <th>weight</th>\n",
       "      <th>acceleration</th>\n",
       "      <th>year</th>\n",
       "      <th>name</th>\n",
       "      <th>Kilometer_per_liter</th>\n",
       "    </tr>\n",
       "  </thead>\n",
       "  <tbody>\n",
       "    <tr>\n",
       "      <th>6</th>\n",
       "      <td>1</td>\n",
       "      <td>3</td>\n",
       "      <td>6.118097</td>\n",
       "      <td>220</td>\n",
       "      <td>4354</td>\n",
       "      <td>9.0</td>\n",
       "      <td>1970</td>\n",
       "      <td>chevrolet impala</td>\n",
       "      <td>5.952012</td>\n",
       "    </tr>\n",
       "    <tr>\n",
       "      <th>7</th>\n",
       "      <td>1</td>\n",
       "      <td>3</td>\n",
       "      <td>6.086775</td>\n",
       "      <td>215</td>\n",
       "      <td>4312</td>\n",
       "      <td>8.5</td>\n",
       "      <td>1970</td>\n",
       "      <td>plymouth fury iii</td>\n",
       "      <td>5.952012</td>\n",
       "    </tr>\n",
       "    <tr>\n",
       "      <th>8</th>\n",
       "      <td>1</td>\n",
       "      <td>3</td>\n",
       "      <td>6.120297</td>\n",
       "      <td>225</td>\n",
       "      <td>4425</td>\n",
       "      <td>10.0</td>\n",
       "      <td>1970</td>\n",
       "      <td>pontiac catalina</td>\n",
       "      <td>5.952012</td>\n",
       "    </tr>\n",
       "    <tr>\n",
       "      <th>13</th>\n",
       "      <td>1</td>\n",
       "      <td>3</td>\n",
       "      <td>6.120297</td>\n",
       "      <td>225</td>\n",
       "      <td>3086</td>\n",
       "      <td>10.0</td>\n",
       "      <td>1970</td>\n",
       "      <td>buick estate wagon (sw)</td>\n",
       "      <td>5.952012</td>\n",
       "    </tr>\n",
       "    <tr>\n",
       "      <th>25</th>\n",
       "      <td>1</td>\n",
       "      <td>3</td>\n",
       "      <td>5.886104</td>\n",
       "      <td>215</td>\n",
       "      <td>4615</td>\n",
       "      <td>14.0</td>\n",
       "      <td>1970</td>\n",
       "      <td>ford f250</td>\n",
       "      <td>4.251437</td>\n",
       "    </tr>\n",
       "    <tr>\n",
       "      <th>26</th>\n",
       "      <td>1</td>\n",
       "      <td>3</td>\n",
       "      <td>5.726848</td>\n",
       "      <td>200</td>\n",
       "      <td>4376</td>\n",
       "      <td>15.0</td>\n",
       "      <td>1970</td>\n",
       "      <td>chevy c20</td>\n",
       "      <td>4.251437</td>\n",
       "    </tr>\n",
       "    <tr>\n",
       "      <th>27</th>\n",
       "      <td>1</td>\n",
       "      <td>3</td>\n",
       "      <td>5.762051</td>\n",
       "      <td>210</td>\n",
       "      <td>4382</td>\n",
       "      <td>13.5</td>\n",
       "      <td>1970</td>\n",
       "      <td>dodge d200</td>\n",
       "      <td>4.676581</td>\n",
       "    </tr>\n",
       "    <tr>\n",
       "      <th>67</th>\n",
       "      <td>1</td>\n",
       "      <td>3</td>\n",
       "      <td>6.061457</td>\n",
       "      <td>208</td>\n",
       "      <td>4633</td>\n",
       "      <td>11.0</td>\n",
       "      <td>1972</td>\n",
       "      <td>mercury marquis</td>\n",
       "      <td>4.676581</td>\n",
       "    </tr>\n",
       "    <tr>\n",
       "      <th>94</th>\n",
       "      <td>1</td>\n",
       "      <td>3</td>\n",
       "      <td>6.086775</td>\n",
       "      <td>215</td>\n",
       "      <td>4735</td>\n",
       "      <td>11.0</td>\n",
       "      <td>1973</td>\n",
       "      <td>chrysler new yorker brougham</td>\n",
       "      <td>5.526868</td>\n",
       "    </tr>\n",
       "    <tr>\n",
       "      <th>95</th>\n",
       "      <td>1</td>\n",
       "      <td>3</td>\n",
       "      <td>6.120297</td>\n",
       "      <td>225</td>\n",
       "      <td>4951</td>\n",
       "      <td>11.0</td>\n",
       "      <td>1973</td>\n",
       "      <td>buick electra 225 custom</td>\n",
       "      <td>5.101724</td>\n",
       "    </tr>\n",
       "    <tr>\n",
       "      <th>116</th>\n",
       "      <td>1</td>\n",
       "      <td>3</td>\n",
       "      <td>5.991465</td>\n",
       "      <td>230</td>\n",
       "      <td>4278</td>\n",
       "      <td>9.5</td>\n",
       "      <td>1973</td>\n",
       "      <td>pontiac grand prix</td>\n",
       "      <td>6.802299</td>\n",
       "    </tr>\n",
       "  </tbody>\n",
       "</table>\n",
       "</div>"
      ],
      "text/plain": [
       "     origin  cylinders  displacement  horsepower  weight  acceleration  year  \\\n",
       "6    1       3          6.118097      220         4354    9.0           1970   \n",
       "7    1       3          6.086775      215         4312    8.5           1970   \n",
       "8    1       3          6.120297      225         4425    10.0          1970   \n",
       "13   1       3          6.120297      225         3086    10.0          1970   \n",
       "25   1       3          5.886104      215         4615    14.0          1970   \n",
       "26   1       3          5.726848      200         4376    15.0          1970   \n",
       "27   1       3          5.762051      210         4382    13.5          1970   \n",
       "67   1       3          6.061457      208         4633    11.0          1972   \n",
       "94   1       3          6.086775      215         4735    11.0          1973   \n",
       "95   1       3          6.120297      225         4951    11.0          1973   \n",
       "116  1       3          5.991465      230         4278    9.5           1973   \n",
       "\n",
       "                             name  Kilometer_per_liter  \n",
       "6    chevrolet impala              5.952012             \n",
       "7    plymouth fury iii             5.952012             \n",
       "8    pontiac catalina              5.952012             \n",
       "13   buick estate wagon (sw)       5.952012             \n",
       "25   ford f250                     4.251437             \n",
       "26   chevy c20                     4.251437             \n",
       "27   dodge d200                    4.676581             \n",
       "67   mercury marquis               4.676581             \n",
       "94   chrysler new yorker brougham  5.526868             \n",
       "95   buick electra 225 custom      5.101724             \n",
       "116  pontiac grand prix            6.802299             "
      ]
     },
     "execution_count": 227,
     "metadata": {},
     "output_type": "execute_result"
    }
   ],
   "source": [
    "df[df.horsepower > UL_h] "
   ]
  },
  {
   "cell_type": "code",
   "execution_count": 228,
   "id": "e2028282",
   "metadata": {},
   "outputs": [],
   "source": [
    "df = df.drop([6,7,8,13,25,26,27,67,94,95,116])"
   ]
  },
  {
   "cell_type": "code",
   "execution_count": 229,
   "id": "3869cf0d",
   "metadata": {},
   "outputs": [
    {
     "data": {
      "text/html": [
       "<div>\n",
       "<style scoped>\n",
       "    .dataframe tbody tr th:only-of-type {\n",
       "        vertical-align: middle;\n",
       "    }\n",
       "\n",
       "    .dataframe tbody tr th {\n",
       "        vertical-align: top;\n",
       "    }\n",
       "\n",
       "    .dataframe thead th {\n",
       "        text-align: right;\n",
       "    }\n",
       "</style>\n",
       "<table border=\"1\" class=\"dataframe\">\n",
       "  <thead>\n",
       "    <tr style=\"text-align: right;\">\n",
       "      <th></th>\n",
       "      <th>origin</th>\n",
       "      <th>cylinders</th>\n",
       "      <th>displacement</th>\n",
       "      <th>horsepower</th>\n",
       "      <th>weight</th>\n",
       "      <th>acceleration</th>\n",
       "      <th>year</th>\n",
       "      <th>name</th>\n",
       "      <th>Kilometer_per_liter</th>\n",
       "    </tr>\n",
       "  </thead>\n",
       "  <tbody>\n",
       "  </tbody>\n",
       "</table>\n",
       "</div>"
      ],
      "text/plain": [
       "Empty DataFrame\n",
       "Columns: [origin, cylinders, displacement, horsepower, weight, acceleration, year, name, Kilometer_per_liter]\n",
       "Index: []"
      ]
     },
     "execution_count": 229,
     "metadata": {},
     "output_type": "execute_result"
    }
   ],
   "source": [
    "df[df.horsepower > UL_h] "
   ]
  },
  {
   "cell_type": "code",
   "execution_count": 230,
   "id": "d9176cf8",
   "metadata": {
    "scrolled": true
   },
   "outputs": [
    {
     "data": {
      "text/plain": [
       "<AxesSubplot:xlabel='horsepower'>"
      ]
     },
     "execution_count": 230,
     "metadata": {},
     "output_type": "execute_result"
    },
    {
     "data": {
      "image/png": "[encoded data removed]",
      "text/plain": [
       "<Figure size 432x288 with 1 Axes>"
      ]
     },
     "metadata": {
      "needs_background": "light"
     },
     "output_type": "display_data"
    }
   ],
   "source": [
    "sns.boxplot(df.horsepower)"
   ]
  },
  {
   "cell_type": "code",
   "execution_count": 231,
   "id": "04dbb05b",
   "metadata": {},
   "outputs": [
    {
     "name": "stdout",
     "output_type": "stream",
     "text": [
      "Pearsons correlation: -0.784\n"
     ]
    }
   ],
   "source": [
    "corr, _ = pearsonr(df.horsepower,df.Kilometer_per_liter)\n",
    "print('Pearsons correlation: %.3f' % corr)"
   ]
  },
  {
   "cell_type": "markdown",
   "id": "0461fea1",
   "metadata": {},
   "source": [
    "#### Negative correlation bad predictor"
   ]
  },
  {
   "cell_type": "markdown",
   "id": "51759802",
   "metadata": {},
   "source": [
    "## Weight"
   ]
  },
  {
   "cell_type": "code",
   "execution_count": 232,
   "id": "255a7244",
   "metadata": {},
   "outputs": [
    {
     "data": {
      "text/plain": [
       "2130    4\n",
       "1985    4\n",
       "2125    3\n",
       "2720    3\n",
       "2300    3\n",
       "2265    3\n",
       "2155    3\n",
       "2945    3\n",
       "1835    2\n",
       "1937    2\n",
       "3425    2\n",
       "3940    2\n",
       "2220    2\n",
       "2635    2\n",
       "2395    2\n",
       "4215    2\n",
       "2164    2\n",
       "1990    2\n",
       "1950    2\n",
       "1825    2\n",
       "3672    2\n",
       "2190    2\n",
       "2065    2\n",
       "1795    2\n",
       "2045    2\n",
       "2930    2\n",
       "2670    2\n",
       "1965    2\n",
       "4464    2\n",
       "3410    2\n",
       "1800    2\n",
       "1975    2\n",
       "3725    2\n",
       "2408    2\n",
       "2542    2\n",
       "2950    2\n",
       "2490    1\n",
       "2391    1\n",
       "4952    1\n",
       "2678    1\n",
       "2420    1\n",
       "2901    1\n",
       "4096    1\n",
       "4955    1\n",
       "3420    1\n",
       "4042    1\n",
       "2910    1\n",
       "2401    1\n",
       "2914    1\n",
       "2085    1\n",
       "2405    1\n",
       "3430    1\n",
       "2160    1\n",
       "3433    1\n",
       "2605    1\n",
       "3436    1\n",
       "3439    1\n",
       "4456    1\n",
       "2385    1\n",
       "3535    1\n",
       "2379    1\n",
       "2890    1\n",
       "3190    1\n",
       "4657    1\n",
       "3821    1\n",
       "3399    1\n",
       "3365    1\n",
       "4274    1\n",
       "2215    1\n",
       "4385    1\n",
       "3360    1\n",
       "2335    1\n",
       "3870    1\n",
       "4380    1\n",
       "3880    1\n",
       "2330    1\n",
       "3353    1\n",
       "2835    1\n",
       "2833    1\n",
       "1834    1\n",
       "1836    1\n",
       "2979    1\n",
       "2625    1\n",
       "2375    1\n",
       "4422    1\n",
       "3270    1\n",
       "2372    1\n",
       "3907    1\n",
       "1845    1\n",
       "3415    1\n",
       "1867    1\n",
       "2865    1\n",
       "3900    1\n",
       "2875    1\n",
       "1850    1\n",
       "3897    1\n",
       "2451    1\n",
       "3381    1\n",
       "3892    1\n",
       "3955    1\n",
       "4997    1\n",
       "2933    1\n",
       "2000    1\n",
       "4060    1\n",
       "3035    1\n",
       "4220    1\n",
       "2905    1\n",
       "4055    1\n",
       "4054    1\n",
       "2003    1\n",
       "2511    1\n",
       "4440    1\n",
       "3021    1\n",
       "3530    1\n",
       "2506    1\n",
       "3015    1\n",
       "3525    1\n",
       "3012    1\n",
       "4498    1\n",
       "2525    1\n",
       "3039    1\n",
       "2019    1\n",
       "2020    1\n",
       "2046    1\n",
       "2556    1\n",
       "3380    1\n",
       "4325    1\n",
       "3574    1\n",
       "3060    1\n",
       "3278    1\n",
       "4082    1\n",
       "2545    1\n",
       "4080    1\n",
       "2595    1\n",
       "4077    1\n",
       "3563    1\n",
       "2295    1\n",
       "2025    1\n",
       "3520    1\n",
       "4638    1\n",
       "4360    1\n",
       "3465    1\n",
       "4502    1\n",
       "2965    1\n",
       "3988    1\n",
       "4499    1\n",
       "2962    1\n",
       "2957    1\n",
       "2350    1\n",
       "2380    1\n",
       "3003    1\n",
       "3459    1\n",
       "3651    1\n",
       "2035    1\n",
       "2430    1\n",
       "1915    1\n",
       "3962    1\n",
       "3449    1\n",
       "1945    1\n",
       "3233    1\n",
       "3570    1\n",
       "2464    1\n",
       "4457    1\n",
       "2489    1\n",
       "2800    1\n",
       "1970    1\n",
       "2070    1\n",
       "3504    1\n",
       "2370    1\n",
       "2990    1\n",
       "1963    1\n",
       "2500    1\n",
       "2472    1\n",
       "2434    1\n",
       "3250    1\n",
       "1955    1\n",
       "1940    1\n",
       "2320    1\n",
       "3329    1\n",
       "2830    1\n",
       "4746    1\n",
       "2660    1\n",
       "3169    1\n",
       "2144    1\n",
       "4906    1\n",
       "4190    1\n",
       "1760    1\n",
       "4699    1\n",
       "2648    1\n",
       "4668    1\n",
       "3158    1\n",
       "4237    1\n",
       "3664    1\n",
       "2639    1\n",
       "2126    1\n",
       "1613    1\n",
       "2124    1\n",
       "2123    1\n",
       "2740    1\n",
       "2665    1\n",
       "1649    1\n",
       "1980    1\n",
       "2694    1\n",
       "3205    1\n",
       "2984    1\n",
       "2868    1\n",
       "3160    1\n",
       "4732    1\n",
       "2171    1\n",
       "3193    1\n",
       "3693    1\n",
       "2075    1\n",
       "3630    1\n",
       "1995    1\n",
       "4209    1\n",
       "2672    1\n",
       "2671    1\n",
       "2158    1\n",
       "2634    1\n",
       "2120    1\n",
       "4165    1\n",
       "2582    1\n",
       "2592    1\n",
       "3102    1\n",
       "3613    1\n",
       "1968    1\n",
       "2587    1\n",
       "2074    1\n",
       "3609    1\n",
       "3605    1\n",
       "3620    1\n",
       "5140    1\n",
       "2575    1\n",
       "3085    1\n",
       "2572    1\n",
       "2565    1\n",
       "4100    1\n",
       "2051    1\n",
       "4129    1\n",
       "4135    1\n",
       "3140    1\n",
       "2615    1\n",
       "3139    1\n",
       "3445    1\n",
       "2110    1\n",
       "3645    1\n",
       "2108    1\n",
       "4154    1\n",
       "2900    1\n",
       "2100    1\n",
       "2600    1\n",
       "1875    1\n",
       "3121    1\n",
       "3632    1\n",
       "2640    1\n",
       "4654    1\n",
       "4141    1\n",
       "4140    1\n",
       "2870    1\n",
       "3211    1\n",
       "3265    1\n",
       "2700    1\n",
       "2711    1\n",
       "2279    1\n",
       "3302    1\n",
       "2789    1\n",
       "2246    1\n",
       "2150    1\n",
       "2855    1\n",
       "3070    1\n",
       "1755    1\n",
       "2264    1\n",
       "2774    1\n",
       "3288    1\n",
       "2135    1\n",
       "2050    1\n",
       "3282    1\n",
       "2560    1\n",
       "2255    1\n",
       "1925    1\n",
       "2795    1\n",
       "3820    1\n",
       "2815    1\n",
       "4363    1\n",
       "3850    1\n",
       "2515    1\n",
       "3336    1\n",
       "2310    1\n",
       "4098    1\n",
       "3840    1\n",
       "3210    1\n",
       "1773    1\n",
       "3150    1\n",
       "2807    1\n",
       "3830    1\n",
       "4341    1\n",
       "2290    1\n",
       "2288    1\n",
       "4335    1\n",
       "2254    1\n",
       "2790    1\n",
       "3785    1\n",
       "2202    1\n",
       "2245    1\n",
       "2210    1\n",
       "4257    1\n",
       "3755    1\n",
       "3155    1\n",
       "3230    1\n",
       "3432    1\n",
       "2278    1\n",
       "2620    1\n",
       "2200    1\n",
       "3735    1\n",
       "2205    1\n",
       "3221    1\n",
       "3730    1\n",
       "2702    1\n",
       "2189    1\n",
       "2725    1\n",
       "2585    1\n",
       "4295    1\n",
       "2904    1\n",
       "4294    1\n",
       "3781    1\n",
       "2755    1\n",
       "3777    1\n",
       "3264    1\n",
       "2234    1\n",
       "2745    1\n",
       "2230    1\n",
       "2188    1\n",
       "2228    1\n",
       "2226    1\n",
       "3761    1\n",
       "2223    1\n",
       "2735    1\n",
       "3245    1\n",
       "2219    1\n",
       "2145    1\n",
       "Name: weight, dtype: int64"
      ]
     },
     "execution_count": 232,
     "metadata": {},
     "output_type": "execute_result"
    }
   ],
   "source": [
    "df.weight.value_counts()"
   ]
  },
  {
   "cell_type": "code",
   "execution_count": 233,
   "id": "3da13fb9",
   "metadata": {},
   "outputs": [
    {
     "data": {
      "text/plain": [
       "0"
      ]
     },
     "execution_count": 233,
     "metadata": {},
     "output_type": "execute_result"
    }
   ],
   "source": [
    "df.weight.isnull().sum()"
   ]
  },
  {
   "cell_type": "code",
   "execution_count": 234,
   "id": "f46beb9b",
   "metadata": {},
   "outputs": [
    {
     "data": {
      "text/plain": [
       "<AxesSubplot:xlabel='weight'>"
      ]
     },
     "execution_count": 234,
     "metadata": {},
     "output_type": "execute_result"
    },
    {
     "data": {
      "image/png": "[encoded data removed]",
      "text/plain": [
       "<Figure size 432x288 with 1 Axes>"
      ]
     },
     "metadata": {
      "needs_background": "light"
     },
     "output_type": "display_data"
    }
   ],
   "source": [
    "sns.boxplot(df.weight)"
   ]
  },
  {
   "cell_type": "code",
   "execution_count": 235,
   "id": "6a625899",
   "metadata": {
    "scrolled": true
   },
   "outputs": [
    {
     "data": {
      "text/plain": [
       "<AxesSubplot:xlabel='weight', ylabel='Density'>"
      ]
     },
     "execution_count": 235,
     "metadata": {},
     "output_type": "execute_result"
    },
    {
     "data": {
      "image/png": "[encoded data removed]",
      "text/plain": [
       "<Figure size 432x288 with 1 Axes>"
      ]
     },
     "metadata": {
      "needs_background": "light"
     },
     "output_type": "display_data"
    }
   ],
   "source": [
    "sns.distplot(df.weight)"
   ]
  },
  {
   "cell_type": "code",
   "execution_count": 236,
   "id": "a678a418",
   "metadata": {},
   "outputs": [
    {
     "data": {
      "text/plain": [
       "<AxesSubplot:xlabel='Kilometer_per_liter', ylabel='weight'>"
      ]
     },
     "execution_count": 236,
     "metadata": {},
     "output_type": "execute_result"
    },
    {
     "data": {
      "image/png": "[encoded data removed]",
      "text/plain": [
       "<Figure size 432x288 with 1 Axes>"
      ]
     },
     "metadata": {
      "needs_background": "light"
     },
     "output_type": "display_data"
    }
   ],
   "source": [
    "sns.scatterplot(df.Kilometer_per_liter,df.weight)"
   ]
  },
  {
   "cell_type": "code",
   "execution_count": 237,
   "id": "cece952c",
   "metadata": {
    "scrolled": true
   },
   "outputs": [
    {
     "data": {
      "text/plain": [
       "<AxesSubplot:xlabel='weight', ylabel='count'>"
      ]
     },
     "execution_count": 237,
     "metadata": {},
     "output_type": "execute_result"
    },
    {
     "data": {
      "image/png": "[encoded data removed]",
      "text/plain": [
       "<Figure size 432x288 with 1 Axes>"
      ]
     },
     "metadata": {
      "needs_background": "light"
     },
     "output_type": "display_data"
    }
   ],
   "source": [
    "sns.countplot(df.weight)"
   ]
  },
  {
   "cell_type": "code",
   "execution_count": 238,
   "id": "edc386c7",
   "metadata": {},
   "outputs": [
    {
     "name": "stdout",
     "output_type": "stream",
     "text": [
      "Pearsons correlation: -0.827\n"
     ]
    }
   ],
   "source": [
    "corr, _ = pearsonr(df.weight,df.Kilometer_per_liter)\n",
    "print('Pearsons correlation: %.3f' % corr)"
   ]
  },
  {
   "cell_type": "markdown",
   "id": "36123b8f",
   "metadata": {},
   "source": [
    "#### Negative correlation bad predictor"
   ]
  },
  {
   "cell_type": "markdown",
   "id": "8988aa14",
   "metadata": {},
   "source": [
    "## year"
   ]
  },
  {
   "cell_type": "code",
   "execution_count": 239,
   "id": "1b5ef290",
   "metadata": {},
   "outputs": [
    {
     "data": {
      "text/plain": [
       "1973    37\n",
       "1978    36\n",
       "1976    34\n",
       "1982    31\n",
       "1975    30\n",
       "1979    29\n",
       "1981    29\n",
       "1971    28\n",
       "1977    28\n",
       "1980    28\n",
       "1972    27\n",
       "1974    27\n",
       "1970    22\n",
       "Name: year, dtype: int64"
      ]
     },
     "execution_count": 239,
     "metadata": {},
     "output_type": "execute_result"
    }
   ],
   "source": [
    "df.year.value_counts()"
   ]
  },
  {
   "cell_type": "code",
   "execution_count": 240,
   "id": "17558c73",
   "metadata": {},
   "outputs": [
    {
     "data": {
      "text/plain": [
       "0"
      ]
     },
     "execution_count": 240,
     "metadata": {},
     "output_type": "execute_result"
    }
   ],
   "source": [
    "df.year.isnull().sum()"
   ]
  },
  {
   "cell_type": "code",
   "execution_count": 241,
   "id": "8f335623",
   "metadata": {
    "scrolled": true
   },
   "outputs": [
    {
     "data": {
      "text/plain": [
       "<AxesSubplot:xlabel='year', ylabel='count'>"
      ]
     },
     "execution_count": 241,
     "metadata": {},
     "output_type": "execute_result"
    },
    {
     "data": {
      "image/png": "[encoded data removed]",
      "text/plain": [
       "<Figure size 432x288 with 1 Axes>"
      ]
     },
     "metadata": {
      "needs_background": "light"
     },
     "output_type": "display_data"
    }
   ],
   "source": [
    "sns.countplot(df.year)"
   ]
  },
  {
   "cell_type": "code",
   "execution_count": 242,
   "id": "3b03fca1",
   "metadata": {},
   "outputs": [
    {
     "data": {
      "text/plain": [
       "<AxesSubplot:xlabel='Kilometer_per_liter', ylabel='year'>"
      ]
     },
     "execution_count": 242,
     "metadata": {},
     "output_type": "execute_result"
    },
    {
     "data": {
      "image/png": "[encoded data removed]",
      "text/plain": [
       "<Figure size 432x288 with 1 Axes>"
      ]
     },
     "metadata": {
      "needs_background": "light"
     },
     "output_type": "display_data"
    }
   ],
   "source": [
    "sns.scatterplot(df.Kilometer_per_liter,df.year)"
   ]
  },
  {
   "cell_type": "code",
   "execution_count": 243,
   "id": "8ab11e24",
   "metadata": {},
   "outputs": [
    {
     "data": {
      "text/plain": [
       "<AxesSubplot:xlabel='year'>"
      ]
     },
     "execution_count": 243,
     "metadata": {},
     "output_type": "execute_result"
    },
    {
     "data": {
      "image/png": "[encoded data removed]",
      "text/plain": [
       "<Figure size 432x288 with 1 Axes>"
      ]
     },
     "metadata": {
      "needs_background": "light"
     },
     "output_type": "display_data"
    }
   ],
   "source": [
    "sns.boxplot(df.year)"
   ]
  },
  {
   "cell_type": "code",
   "execution_count": 244,
   "id": "d5244057",
   "metadata": {
    "scrolled": false
   },
   "outputs": [
    {
     "data": {
      "text/plain": [
       "<AxesSubplot:title={'center':'Kilometer_per_liter'}, xlabel='year'>"
      ]
     },
     "execution_count": 244,
     "metadata": {},
     "output_type": "execute_result"
    },
    {
     "data": {
      "image/png": "[encoded data removed]",
      "text/plain": [
       "<Figure size 432x288 with 1 Axes>"
      ]
     },
     "metadata": {
      "needs_background": "light"
     },
     "output_type": "display_data"
    }
   ],
   "source": [
    "df.boxplot(by = 'year', column = ['Kilometer_per_liter'])"
   ]
  },
  {
   "cell_type": "code",
   "execution_count": 245,
   "id": "ac816d67",
   "metadata": {},
   "outputs": [
    {
     "data": {
      "text/html": [
       "<div>\n",
       "<style scoped>\n",
       "    .dataframe tbody tr th:only-of-type {\n",
       "        vertical-align: middle;\n",
       "    }\n",
       "\n",
       "    .dataframe tbody tr th {\n",
       "        vertical-align: top;\n",
       "    }\n",
       "\n",
       "    .dataframe thead th {\n",
       "        text-align: right;\n",
       "    }\n",
       "</style>\n",
       "<table border=\"1\" class=\"dataframe\">\n",
       "  <thead>\n",
       "    <tr style=\"text-align: right;\">\n",
       "      <th></th>\n",
       "      <th>df</th>\n",
       "      <th>sum_sq</th>\n",
       "      <th>mean_sq</th>\n",
       "      <th>F</th>\n",
       "      <th>PR(&gt;F)</th>\n",
       "    </tr>\n",
       "  </thead>\n",
       "  <tbody>\n",
       "    <tr>\n",
       "      <th>year</th>\n",
       "      <td>1.0</td>\n",
       "      <td>1246.481359</td>\n",
       "      <td>1246.481359</td>\n",
       "      <td>171.302986</td>\n",
       "      <td>1.271221e-32</td>\n",
       "    </tr>\n",
       "    <tr>\n",
       "      <th>Residual</th>\n",
       "      <td>384.0</td>\n",
       "      <td>2794.165199</td>\n",
       "      <td>7.276472</td>\n",
       "      <td>NaN</td>\n",
       "      <td>NaN</td>\n",
       "    </tr>\n",
       "  </tbody>\n",
       "</table>\n",
       "</div>"
      ],
      "text/plain": [
       "             df       sum_sq      mean_sq           F        PR(>F)\n",
       "year      1.0    1246.481359  1246.481359  171.302986  1.271221e-32\n",
       "Residual  384.0  2794.165199  7.276472    NaN         NaN          "
      ]
     },
     "execution_count": 245,
     "metadata": {},
     "output_type": "execute_result"
    }
   ],
   "source": [
    "mod = ols('Kilometer_per_liter ~ year', data=df).fit()\n",
    "aov_table = sm.stats.anova_lm(mod)\n",
    "aov_table"
   ]
  },
  {
   "cell_type": "code",
   "execution_count": 246,
   "id": "5cde9c4e",
   "metadata": {},
   "outputs": [
    {
     "name": "stdout",
     "output_type": "stream",
     "text": [
      "Multiple Comparison of Means - Tukey HSD, FWER=0.05\n",
      "===================================================\n",
      "group1 group2 meandiff p-adj   lower  upper  reject\n",
      "---------------------------------------------------\n",
      "  1970   1971    0.802    0.9  -1.609 3.2129  False\n",
      "  1970   1972  -0.1546    0.9 -2.5851 2.2759  False\n",
      "  1970   1973   -0.844    0.9 -3.1223 1.4343  False\n",
      "  1970   1974     1.42 0.7368 -1.0105 3.8505  False\n",
      "  1970   1975   0.3839    0.9 -1.9914 2.7592  False\n",
      "  1970   1976   0.9395    0.9 -1.3759  3.255  False\n",
      "  1970   1977   1.7054 0.4783 -0.7055 4.1164  False\n",
      "  1970   1978   1.9971 0.1608 -0.2929 4.2871  False\n",
      "  1970   1979   2.4358 0.0416  0.0433 4.8284   True\n",
      "  1970   1980   5.8976  0.001  3.4867 8.3086   True\n",
      "  1970   1981   4.6642  0.001  2.2716 7.0568   True\n",
      "  1970   1982   5.2488  0.001  2.8898 7.6079   True\n",
      "  1971   1972  -0.9566    0.9 -3.2391 1.3259  False\n",
      "  1971   1973   -1.646 0.3206 -3.7657 0.4737  False\n",
      "  1971   1974    0.618    0.9 -1.6645 2.9005  False\n",
      "  1971   1975  -0.4181    0.9 -2.6417 1.8056  False\n",
      "  1971   1976   0.1375    0.9  -2.022 2.2971  False\n",
      "  1971   1977   0.9034    0.9 -1.3582 3.1651  False\n",
      "  1971   1978   1.1951 0.7865 -0.9372 3.3274  False\n",
      "  1971   1979   1.6339 0.4294 -0.6082  3.876  False\n",
      "  1971   1980   5.0957  0.001   2.834 7.3573   True\n",
      "  1971   1981   3.8622  0.001  1.6201 6.1043   True\n",
      "  1971   1982   4.4469  0.001  2.2406 6.6531   True\n",
      "  1972   1973  -0.6894    0.9 -2.8313 1.4525  False\n",
      "  1972   1974   1.5746 0.5287 -0.7286 3.8778  False\n",
      "  1972   1975   0.5385    0.9 -1.7063 2.7834  False\n",
      "  1972   1976   1.0941    0.9 -1.0873 3.2755  False\n",
      "  1972   1977     1.86 0.2476 -0.4225 4.1425  False\n",
      "  1972   1978   2.1517 0.0507 -0.0027 4.3061  False\n",
      "  1972   1979   2.5904   0.01  0.3273 4.8536   True\n",
      "  1972   1980   6.0522  0.001  3.7697 8.3347   True\n",
      "  1972   1981   4.8188  0.001  2.5557 7.0819   True\n",
      "  1972   1982   5.4034  0.001  3.1758 7.6311   True\n",
      "  1973   1974    2.264 0.0274  0.1221 4.4059   True\n",
      "  1973   1975   1.2279 0.7235 -0.8511  3.307  False\n",
      "  1973   1976   1.7835 0.1416 -0.2269 3.7939  False\n",
      "  1973   1977   2.5494 0.0048  0.4298 4.6691   True\n",
      "  1973   1978   2.8411  0.001    0.86 4.8222   True\n",
      "  1973   1979   3.2799  0.001  1.1811 5.3786   True\n",
      "  1973   1980   6.7416  0.001   4.622 8.8613   True\n",
      "  1973   1981   5.5082  0.001  3.4094  7.607   True\n",
      "  1973   1982   6.0929  0.001  4.0324 8.1533   True\n",
      "  1974   1975  -1.0361    0.9 -3.2809 1.2088  False\n",
      "  1974   1976  -0.4805    0.9 -2.6619 1.7009  False\n",
      "  1974   1977   0.2854    0.9 -1.9971 2.5679  False\n",
      "  1974   1978   0.5771    0.9 -1.5773 2.7315  False\n",
      "  1974   1979   1.0158    0.9 -1.2473 3.2789  False\n",
      "  1974   1980   4.4776  0.001  2.1951 6.7601   True\n",
      "  1974   1981   3.2442  0.001  0.9811 5.5073   True\n",
      "  1974   1982   3.8288  0.001  1.6012 6.0565   True\n",
      "  1975   1976   0.5556    0.9 -1.5641 2.6753  False\n",
      "  1975   1977   1.3215 0.7158 -0.9022 3.5451  False\n",
      "  1975   1978   1.6132 0.3319 -0.4788 3.7051  False\n",
      "  1975   1979   2.0519 0.0967 -0.1518 4.2557  False\n",
      "  1975   1980   5.5137  0.001  3.2901 7.7374   True\n",
      "  1975   1981   4.2803  0.001  2.0765  6.484   True\n",
      "  1975   1982   4.8649  0.001  2.6976 7.0322   True\n",
      "  1976   1977   0.7659    0.9 -1.3937 2.9255  False\n",
      "  1976   1978   1.0576 0.8659 -0.9661 3.0813  False\n",
      "  1976   1979   1.4963 0.4954 -0.6427 3.6354  False\n",
      "  1976   1980   4.9581  0.001  2.7985 7.1177   True\n",
      "  1976   1981   3.7247  0.001  1.5856 5.8637   True\n",
      "  1976   1982   4.3093  0.001  2.2078 6.4108   True\n",
      "  1977   1978   0.2917    0.9 -1.8406  2.424  False\n",
      "  1977   1979   0.7304    0.9 -1.5116 2.9725  False\n",
      "  1977   1980   4.1922  0.001  1.9306 6.4539   True\n",
      "  1977   1981   2.9588  0.001  0.7167 5.2009   True\n",
      "  1977   1982   3.5434  0.001  1.3372 5.7497   True\n",
      "  1978   1979   0.4387    0.9 -1.6728 2.5503  False\n",
      "  1978   1980   3.9005  0.001  1.7682 6.0328   True\n",
      "  1978   1981   2.6671 0.0022  0.5555 4.7786   True\n",
      "  1978   1982   3.2517  0.001  1.1783 5.3252   True\n",
      "  1979   1980   3.4618  0.001  1.2197 5.7039   True\n",
      "  1979   1981   2.2283 0.0487   0.006 4.4507   True\n",
      "  1979   1982    2.813 0.0016  0.6268 4.9992   True\n",
      "  1980   1981  -1.2334 0.8082 -3.4755 1.0086  False\n",
      "  1980   1982  -0.6488    0.9 -2.8551 1.5575  False\n",
      "  1981   1982   0.5847    0.9 -1.6015 2.7708  False\n",
      "---------------------------------------------------\n"
     ]
    }
   ],
   "source": [
    "t_year = pairwise_tukeyhsd(df.Kilometer_per_liter, df.year, alpha=0.05)\n",
    "print(t_year)"
   ]
  },
  {
   "cell_type": "code",
   "execution_count": 247,
   "id": "a0ac65d4",
   "metadata": {},
   "outputs": [],
   "source": [
    "df.year = df.get('year').replace(1971,1970)\n",
    "df.year = df.get('year').replace(1972,1970)\n",
    "df.year = df.get('year').replace(1973,1970)\n",
    "df.year = df.get('year').replace(1974,1970)\n",
    "df.year = df.get('year').replace(1975,1970)\n",
    "df.year = df.get('year').replace(1976,1970)\n",
    "df.year = df.get('year').replace(1977,1970)\n",
    "df.year = df.get('year').replace(1978,1970)"
   ]
  },
  {
   "cell_type": "code",
   "execution_count": 248,
   "id": "024848e5",
   "metadata": {
    "scrolled": true
   },
   "outputs": [
    {
     "name": "stdout",
     "output_type": "stream",
     "text": [
      "Multiple Comparison of Means - Tukey HSD, FWER=0.05\n",
      "===================================================\n",
      "group1 group2 meandiff p-adj   lower  upper  reject\n",
      "---------------------------------------------------\n",
      "  1970   1979   1.7351 0.0071  0.3279 3.1423   True\n",
      "  1970   1980   5.1969  0.001  3.7671 6.6266   True\n",
      "  1970   1981   3.9634  0.001  2.5562 5.3707   True\n",
      "  1970   1982   4.5481  0.001  3.1825 5.9137   True\n",
      "  1979   1980   3.4618  0.001  1.5542 5.3694   True\n",
      "  1979   1981   2.2283 0.0117  0.3375 4.1192   True\n",
      "  1979   1982    2.813  0.001  0.9529 4.6731   True\n",
      "  1980   1981  -1.2334 0.3927 -3.1411 0.6742  False\n",
      "  1980   1982  -0.6488 0.8675 -2.5259 1.2284  False\n",
      "  1981   1982   0.5847    0.9 -1.2754 2.4447  False\n",
      "---------------------------------------------------\n"
     ]
    }
   ],
   "source": [
    "t_year2 = pairwise_tukeyhsd(df.Kilometer_per_liter, df.year, alpha=0.05)\n",
    "print(t_year2)"
   ]
  },
  {
   "cell_type": "code",
   "execution_count": 249,
   "id": "88c83b42",
   "metadata": {},
   "outputs": [],
   "source": [
    "df.year = df.get('year').replace(1981,1980)\n",
    "df.year = df.get('year').replace(1982,1980)\n"
   ]
  },
  {
   "cell_type": "code",
   "execution_count": 250,
   "id": "bbf8415e",
   "metadata": {
    "scrolled": true
   },
   "outputs": [
    {
     "name": "stdout",
     "output_type": "stream",
     "text": [
      "Multiple Comparison of Means - Tukey HSD, FWER=0.05\n",
      "==================================================\n",
      "group1 group2 meandiff p-adj  lower  upper  reject\n",
      "--------------------------------------------------\n",
      "  1970   1979   1.7351 0.0023 0.5252  2.945   True\n",
      "  1970   1980   4.5619  0.001 3.8017  5.322   True\n",
      "  1979   1980   2.8268  0.001 1.5013 4.1522   True\n",
      "--------------------------------------------------\n"
     ]
    }
   ],
   "source": [
    "t_year3 = pairwise_tukeyhsd(df.Kilometer_per_liter, df.year, alpha=0.05)\n",
    "print(t_year3)"
   ]
  },
  {
   "cell_type": "code",
   "execution_count": 251,
   "id": "b1216e95",
   "metadata": {},
   "outputs": [
    {
     "data": {
      "text/html": [
       "<div>\n",
       "<style scoped>\n",
       "    .dataframe tbody tr th:only-of-type {\n",
       "        vertical-align: middle;\n",
       "    }\n",
       "\n",
       "    .dataframe tbody tr th {\n",
       "        vertical-align: top;\n",
       "    }\n",
       "\n",
       "    .dataframe thead th {\n",
       "        text-align: right;\n",
       "    }\n",
       "</style>\n",
       "<table border=\"1\" class=\"dataframe\">\n",
       "  <thead>\n",
       "    <tr style=\"text-align: right;\">\n",
       "      <th></th>\n",
       "      <th>df</th>\n",
       "      <th>sum_sq</th>\n",
       "      <th>mean_sq</th>\n",
       "      <th>F</th>\n",
       "      <th>PR(&gt;F)</th>\n",
       "    </tr>\n",
       "  </thead>\n",
       "  <tbody>\n",
       "    <tr>\n",
       "      <th>year</th>\n",
       "      <td>1.0</td>\n",
       "      <td>1261.383990</td>\n",
       "      <td>1261.383990</td>\n",
       "      <td>174.280566</td>\n",
       "      <td>4.526493e-33</td>\n",
       "    </tr>\n",
       "    <tr>\n",
       "      <th>Residual</th>\n",
       "      <td>384.0</td>\n",
       "      <td>2779.262568</td>\n",
       "      <td>7.237663</td>\n",
       "      <td>NaN</td>\n",
       "      <td>NaN</td>\n",
       "    </tr>\n",
       "  </tbody>\n",
       "</table>\n",
       "</div>"
      ],
      "text/plain": [
       "             df       sum_sq      mean_sq           F        PR(>F)\n",
       "year      1.0    1261.383990  1261.383990  174.280566  4.526493e-33\n",
       "Residual  384.0  2779.262568  7.237663    NaN         NaN          "
      ]
     },
     "execution_count": 251,
     "metadata": {},
     "output_type": "execute_result"
    }
   ],
   "source": [
    "mod = ols('Kilometer_per_liter ~ year', data=df).fit()\n",
    "aov_table = sm.stats.anova_lm(mod)\n",
    "aov_table"
   ]
  },
  {
   "cell_type": "code",
   "execution_count": 252,
   "id": "f001d309",
   "metadata": {
    "scrolled": false
   },
   "outputs": [
    {
     "data": {
      "text/plain": [
       "<AxesSubplot:title={'center':'Kilometer_per_liter'}, xlabel='year'>"
      ]
     },
     "execution_count": 252,
     "metadata": {},
     "output_type": "execute_result"
    },
    {
     "data": {
      "image/png": "[encoded data removed]",
      "text/plain": [
       "<Figure size 432x288 with 1 Axes>"
      ]
     },
     "metadata": {
      "needs_background": "light"
     },
     "output_type": "display_data"
    }
   ],
   "source": [
    "df.boxplot(by = 'year', column = ['Kilometer_per_liter'])"
   ]
  },
  {
   "cell_type": "code",
   "execution_count": 253,
   "id": "06dcbcca",
   "metadata": {},
   "outputs": [
    {
     "data": {
      "text/html": [
       "<div>\n",
       "<style scoped>\n",
       "    .dataframe tbody tr th:only-of-type {\n",
       "        vertical-align: middle;\n",
       "    }\n",
       "\n",
       "    .dataframe tbody tr th {\n",
       "        vertical-align: top;\n",
       "    }\n",
       "\n",
       "    .dataframe thead th {\n",
       "        text-align: right;\n",
       "    }\n",
       "</style>\n",
       "<table border=\"1\" class=\"dataframe\">\n",
       "  <thead>\n",
       "    <tr style=\"text-align: right;\">\n",
       "      <th></th>\n",
       "      <th>df</th>\n",
       "      <th>sum_sq</th>\n",
       "      <th>mean_sq</th>\n",
       "      <th>F</th>\n",
       "      <th>PR(&gt;F)</th>\n",
       "    </tr>\n",
       "  </thead>\n",
       "  <tbody>\n",
       "    <tr>\n",
       "      <th>year</th>\n",
       "      <td>1.0</td>\n",
       "      <td>1261.383990</td>\n",
       "      <td>1261.383990</td>\n",
       "      <td>174.280566</td>\n",
       "      <td>4.526493e-33</td>\n",
       "    </tr>\n",
       "    <tr>\n",
       "      <th>Residual</th>\n",
       "      <td>384.0</td>\n",
       "      <td>2779.262568</td>\n",
       "      <td>7.237663</td>\n",
       "      <td>NaN</td>\n",
       "      <td>NaN</td>\n",
       "    </tr>\n",
       "  </tbody>\n",
       "</table>\n",
       "</div>"
      ],
      "text/plain": [
       "             df       sum_sq      mean_sq           F        PR(>F)\n",
       "year      1.0    1261.383990  1261.383990  174.280566  4.526493e-33\n",
       "Residual  384.0  2779.262568  7.237663    NaN         NaN          "
      ]
     },
     "execution_count": 253,
     "metadata": {},
     "output_type": "execute_result"
    }
   ],
   "source": [
    "mod = ols('Kilometer_per_liter ~ year', data=df).fit()\n",
    "aov_table = sm.stats.anova_lm(mod)\n",
    "aov_table"
   ]
  },
  {
   "cell_type": "markdown",
   "id": "bb656c6a",
   "metadata": {},
   "source": [
    "## Name"
   ]
  },
  {
   "cell_type": "code",
   "execution_count": 254,
   "id": "1d7a9890",
   "metadata": {},
   "outputs": [
    {
     "data": {
      "text/plain": [
       "ford pinto                              6\n",
       "amc matador                             5\n",
       "ford maverick                           5\n",
       "toyota corolla                          5\n",
       "chevrolet chevette                      4\n",
       "amc gremlin                             4\n",
       "peugeot 504                             4\n",
       "toyota corona                           4\n",
       "amc hornet                              4\n",
       "chevrolet vega                          3\n",
       "ford gran torino                        3\n",
       "chevrolet citation                      3\n",
       "dodge colt                              3\n",
       "ford galaxie 500                        3\n",
       "chevrolet impala                        3\n",
       "honda civic                             3\n",
       "plymouth duster                         3\n",
       "chevrolet nova                          3\n",
       "chevrolet caprice classic               3\n",
       "volkswagen dasher                       3\n",
       "datsun pl510                            2\n",
       "volkswagen rabbit                       2\n",
       "ford ltd                                2\n",
       "pontiac phoenix                         2\n",
       "subaru dl                               2\n",
       "amc matador (sw)                        2\n",
       "opel manta                              2\n",
       "chevrolet chevelle malibu               2\n",
       "saab 99le                               2\n",
       "datsun 210                              2\n",
       "toyota mark ii                          2\n",
       "chevrolet chevelle malibu classic       2\n",
       "subaru                                  2\n",
       "plymouth reliant                        2\n",
       "fiat 128                                2\n",
       "honda civic cvcc                        2\n",
       "datsun 710                              2\n",
       "ford country squire (sw)                2\n",
       "audi 100ls                              2\n",
       "buick century                           2\n",
       "chevrolet malibu                        2\n",
       "buick skylark                           2\n",
       "amc concord                             2\n",
       "toyota corolla 1200                     2\n",
       "chevrolet monte carlo landau            2\n",
       "pontiac catalina                        2\n",
       "honda accord                            2\n",
       "vw rabbit                               2\n",
       "dodge aspen                             2\n",
       "oldsmobile cutlass salon brougham       2\n",
       "plymouth fury iii                       2\n",
       "opel 1900                               2\n",
       "plymouth valiant                        2\n",
       "ford gran torino (sw)                   2\n",
       "mazda 626                               2\n",
       "dodge monaco brougham                   1\n",
       "buick century special                   1\n",
       "renault lecar deluxe                    1\n",
       "chrysler lebaron medallion              1\n",
       "fiat 124 tc                             1\n",
       "mercury grand marquis                   1\n",
       "audi 5000                               1\n",
       "fiat strada custom                      1\n",
       "saab 99gle                              1\n",
       "mercury zephyr 6                        1\n",
       "amc rebel sst                           1\n",
       "chevrolet concours                      1\n",
       "fiat x1.9                               1\n",
       "pontiac grand prix lj                   1\n",
       "ford granada ghia                       1\n",
       "volvo diesel                            1\n",
       "volkswagen super beetle                 1\n",
       "plymouth grand fury                     1\n",
       "ford mustang gl                         1\n",
       "maxda rx3                               1\n",
       "mercury zephyr                          1\n",
       "dodge st. regis                         1\n",
       "vokswagen rabbit                        1\n",
       "chevy c10                               1\n",
       "cadillac eldorado                       1\n",
       "toyota tercel                           1\n",
       "plymouth fury gran sedan                1\n",
       "chevrolet chevelle concours (sw)        1\n",
       "vw rabbit custom                        1\n",
       "ford escort 2h                          1\n",
       "ford granada                            1\n",
       "ford futura                             1\n",
       "ford f108                               1\n",
       "pontiac catalina brougham               1\n",
       "toyota cressida                         1\n",
       "vw rabbit c (diesel)                    1\n",
       "datsun b210                             1\n",
       "datsun 1200                             1\n",
       "chevrolet monte carlo s                 1\n",
       "maxda glc deluxe                        1\n",
       "chevrolet monte carlo                   1\n",
       "ford mustang cobra                      1\n",
       "ford fiesta                             1\n",
       "buick skyhawk                           1\n",
       "buick skylark limited                   1\n",
       "volkswagen model 111                    1\n",
       "renault 12 (sw)                         1\n",
       "volkswagen rabbit custom diesel         1\n",
       "plymouth fury                           1\n",
       "oldsmobile cutlass supreme              1\n",
       "plymouth horizon miser                  1\n",
       "buick estate wagon (sw)                 1\n",
       "mercedes benz 300d                      1\n",
       "nissan stanza xe                        1\n",
       "oldsmobile omega brougham               1\n",
       "dodge omni                              1\n",
       "plymouth satellite sebring              1\n",
       "datsun 310                              1\n",
       "dodge coronet custom                    1\n",
       "chevrolet woody                         1\n",
       "pontiac safari (sw)                     1\n",
       "pontiac astro                           1\n",
       "mazda glc deluxe                        1\n",
       "ford mustang ii                         1\n",
       "oldsmobile starfire sx                  1\n",
       "volkswagen 1131 deluxe sedan            1\n",
       "mercury capri v6                        1\n",
       "toyouta corona mark ii (sw)             1\n",
       "oldsmobile delta 88 royale              1\n",
       "fiat 124 sport coupe                    1\n",
       "peugeot 505s turbo diesel               1\n",
       "ford mustang                            1\n",
       "volkswagen rabbit custom                1\n",
       "mercury marquis brougham                1\n",
       "mazda glc 4                             1\n",
       "pontiac ventura sj                      1\n",
       "amc pacer                               1\n",
       "plymouth satellite                      1\n",
       "datsun 510 (sw)                         1\n",
       "buick regal sport coupe (turbo)         1\n",
       "volvo 244dl                             1\n",
       "ford granada l                          1\n",
       "peugeot 304                             1\n",
       "dodge dart custom                       1\n",
       "ford fairmont futura                    1\n",
       "honda prelude                           1\n",
       "volvo 245                               1\n",
       "saab 99e                                1\n",
       "mercedes-benz 280s                      1\n",
       "dodge d100                              1\n",
       "ford country                            1\n",
       "plymouth volare premier v8              1\n",
       "audi 4000                               1\n",
       "audi 100 ls                             1\n",
       "plymouth 'cuda 340                      1\n",
       "chevrolet vega 2300                     1\n",
       "mazda glc custom                        1\n",
       "chevrolet malibu classic (sw)           1\n",
       "renault 12tl                            1\n",
       "vw dasher (diesel)                      1\n",
       "ford fairmont                           1\n",
       "mazda rx-4                              1\n",
       "honda civic (auto)                      1\n",
       "datsun 810                              1\n",
       "datsun f-10 hatchback                   1\n",
       "chevy s-10                              1\n",
       "pontiac phoenix lj                      1\n",
       "vw pickup                               1\n",
       "honda accord lx                         1\n",
       "honda civic 1500 gl                     1\n",
       "ford pinto runabout                     1\n",
       "amc hornet sportabout (sw)              1\n",
       "dodge aspen 6                           1\n",
       "volkswagen rabbit l                     1\n",
       "oldsmobile vista cruiser                1\n",
       "dodge colt hatchback custom             1\n",
       "fiat 131                                1\n",
       "plymouth horizon 4                      1\n",
       "honda civic 1300                        1\n",
       "hi 1200d                                1\n",
       "datsun 510                              1\n",
       "fiat 124b                               1\n",
       "dodge colt (sw)                         1\n",
       "mercury monarch                         1\n",
       "datsun b210 gx                          1\n",
       "plymouth cricket                        1\n",
       "triumph tr7 coupe                       1\n",
       "plymouth horizon tc3                    1\n",
       "toyota starlet                          1\n",
       "buick opel isuzu deluxe                 1\n",
       "plymouth valiant custom                 1\n",
       "dodge colt hardtop                      1\n",
       "chrysler cordoba                        1\n",
       "ford ltd landau                         1\n",
       "volkswagen jetta                        1\n",
       "chevroelt chevelle malibu               1\n",
       "amc spirit dl                           1\n",
       "chevrolet cavalier                      1\n",
       "datsun 610                              1\n",
       "audi fox                                1\n",
       "dodge colt m/m                          1\n",
       "ford thunderbird                        1\n",
       "datsun 200-sx                           1\n",
       "chevrolet camaro                        1\n",
       "toyota corona liftback                  1\n",
       "toyota corolla 1600 (sw)                1\n",
       "renault 18i                             1\n",
       "volkswagen scirocco                     1\n",
       "ford pinto (sw)                         1\n",
       "ford escort 4w                          1\n",
       "ford granada gl                         1\n",
       "toyota corolla tercel                   1\n",
       "datsun b-210                            1\n",
       "volvo 264gl                             1\n",
       "datsun 310 gx                           1\n",
       "buick lesabre custom                    1\n",
       "plymouth volare                         1\n",
       "mazda rx-7 gs                           1\n",
       "chevrolet vega (sw)                     1\n",
       "buick century luxus (sw)                1\n",
       "peugeot 604sl                           1\n",
       "renault 5 gtl                           1\n",
       "pontiac firebird                        1\n",
       "mercury monarch ghia                    1\n",
       "dodge magnum xe                         1\n",
       "dodge charger 2.2                       1\n",
       "chevrolet monza 2+2                     1\n",
       "mercury lynx l                          1\n",
       "volvo 145e (sw)                         1\n",
       "volkswagen type 3                       1\n",
       "oldsmobile omega                        1\n",
       "ford fairmont 4                         1\n",
       "mercedes-benz 240d                      1\n",
       "dodge aries se                          1\n",
       "datsun 280-zx                           1\n",
       "amc concord dl 6                        1\n",
       "buick skylark 320                       1\n",
       "toyota carina                           1\n",
       "dodge diplomat                          1\n",
       "toyota corona mark ii                   1\n",
       "plymouth arrow gs                       1\n",
       "chrysler lebaron town @ country (sw)    1\n",
       "plymouth satellite custom (sw)          1\n",
       "capri ii                                1\n",
       "mazda glc custom l                      1\n",
       "plymouth champ                          1\n",
       "amc concord dl                          1\n",
       "plymouth volare custom                  1\n",
       "toyota corolla liftback                 1\n",
       "ford ranger                             1\n",
       "plymouth satellite custom               1\n",
       "oldsmobile cutlass ls                   1\n",
       "chevrolet nova custom                   1\n",
       "ford fairmont (man)                     1\n",
       "bmw 2002                                1\n",
       "peugeot 504 (sw)                        1\n",
       "plymouth sapporo                        1\n",
       "ford torino                             1\n",
       "mercury capri 2000                      1\n",
       "datsun 200sx                            1\n",
       "dodge rampage                           1\n",
       "amc pacer d/l                           1\n",
       "mercury cougar brougham                 1\n",
       "amc concord d/l                         1\n",
       "cadillac seville                        1\n",
       "dodge aspen se                          1\n",
       "amc ambassador sst                      1\n",
       "pontiac lemans v6                       1\n",
       "ford fairmont (auto)                    1\n",
       "plymouth horizon                        1\n",
       "amc ambassador brougham                 1\n",
       "amc ambassador dpl                      1\n",
       "dodge monaco (sw)                       1\n",
       "ford torino 500                         1\n",
       "dodge coronet custom (sw)               1\n",
       "datsun 210 mpg                          1\n",
       "buick century limited                   1\n",
       "oldsmobile cutlass ciera (diesel)       1\n",
       "volkswagen 411 (sw)                     1\n",
       "toyota celica gt liftback               1\n",
       "plymouth custom suburb                  1\n",
       "volvo 144ea                             1\n",
       "pontiac sunbird coupe                   1\n",
       "ford mustang ii 2+2                     1\n",
       "mazda rx2 coupe                         1\n",
       "datsun 810 maxima                       1\n",
       "dodge aries wagon (sw)                  1\n",
       "bmw 320i                                1\n",
       "toyota celica gt                        1\n",
       "chevrolet cavalier 2-door               1\n",
       "chevrolet cavalier wagon                1\n",
       "pontiac j2000 se hatchback              1\n",
       "chrysler lebaron salon                  1\n",
       "buick century 350                       1\n",
       "dodge coronet brougham                  1\n",
       "toyota corona hardtop                   1\n",
       "chrysler newport royal                  1\n",
       "audi 5000s (diesel)                     1\n",
       "dodge challenger se                     1\n",
       "honda accord cvcc                       1\n",
       "datsun 510 hatchback                    1\n",
       "chevrolet bel air                       1\n",
       "Name: name, dtype: int64"
      ]
     },
     "execution_count": 254,
     "metadata": {},
     "output_type": "execute_result"
    }
   ],
   "source": [
    "df.name.value_counts()"
   ]
  },
  {
   "cell_type": "code",
   "execution_count": 255,
   "id": "855d66c8",
   "metadata": {},
   "outputs": [
    {
     "data": {
      "text/plain": [
       "386"
      ]
     },
     "execution_count": 255,
     "metadata": {},
     "output_type": "execute_result"
    }
   ],
   "source": [
    "df.name.value_counts().sum()"
   ]
  },
  {
   "cell_type": "code",
   "execution_count": 256,
   "id": "52e71222",
   "metadata": {
    "scrolled": false
   },
   "outputs": [
    {
     "data": {
      "text/plain": [
       "<AxesSubplot:xlabel='name', ylabel='count'>"
      ]
     },
     "execution_count": 256,
     "metadata": {},
     "output_type": "execute_result"
    },
    {
     "data": {
      "image/png": "[encoded data removed]",
      "text/plain": [
       "<Figure size 432x288 with 1 Axes>"
      ]
     },
     "metadata": {
      "needs_background": "light"
     },
     "output_type": "display_data"
    }
   ],
   "source": [
    "sns.countplot(df.name)"
   ]
  },
  {
   "cell_type": "code",
   "execution_count": 257,
   "id": "e703a886",
   "metadata": {
    "scrolled": true
   },
   "outputs": [
    {
     "data": {
      "text/plain": [
       "0"
      ]
     },
     "execution_count": 257,
     "metadata": {},
     "output_type": "execute_result"
    }
   ],
   "source": [
    "df.name.isnull().sum()"
   ]
  },
  {
   "cell_type": "code",
   "execution_count": 258,
   "id": "26bc1a55",
   "metadata": {
    "scrolled": true
   },
   "outputs": [
    {
     "data": {
      "text/html": [
       "<div>\n",
       "<style scoped>\n",
       "    .dataframe tbody tr th:only-of-type {\n",
       "        vertical-align: middle;\n",
       "    }\n",
       "\n",
       "    .dataframe tbody tr th {\n",
       "        vertical-align: top;\n",
       "    }\n",
       "\n",
       "    .dataframe thead th {\n",
       "        text-align: right;\n",
       "    }\n",
       "</style>\n",
       "<table border=\"1\" class=\"dataframe\">\n",
       "  <thead>\n",
       "    <tr style=\"text-align: right;\">\n",
       "      <th></th>\n",
       "      <th>df</th>\n",
       "      <th>sum_sq</th>\n",
       "      <th>mean_sq</th>\n",
       "      <th>F</th>\n",
       "      <th>PR(&gt;F)</th>\n",
       "    </tr>\n",
       "  </thead>\n",
       "  <tbody>\n",
       "    <tr>\n",
       "      <th>name</th>\n",
       "      <td>296.0</td>\n",
       "      <td>3899.593936</td>\n",
       "      <td>13.174304</td>\n",
       "      <td>8.312593</td>\n",
       "      <td>7.356452e-24</td>\n",
       "    </tr>\n",
       "    <tr>\n",
       "      <th>Residual</th>\n",
       "      <td>89.0</td>\n",
       "      <td>141.052623</td>\n",
       "      <td>1.584861</td>\n",
       "      <td>NaN</td>\n",
       "      <td>NaN</td>\n",
       "    </tr>\n",
       "  </tbody>\n",
       "</table>\n",
       "</div>"
      ],
      "text/plain": [
       "             df       sum_sq    mean_sq         F        PR(>F)\n",
       "name      296.0  3899.593936  13.174304  8.312593  7.356452e-24\n",
       "Residual  89.0   141.052623   1.584861  NaN       NaN          "
      ]
     },
     "execution_count": 258,
     "metadata": {},
     "output_type": "execute_result"
    }
   ],
   "source": [
    "mod = ols('Kilometer_per_liter ~ name', data=df).fit()\n",
    "aov_table = sm.stats.anova_lm(mod)\n",
    "aov_table"
   ]
  },
  {
   "cell_type": "markdown",
   "id": "a569381e",
   "metadata": {},
   "source": [
    "### Acceleration"
   ]
  },
  {
   "cell_type": "code",
   "execution_count": 259,
   "id": "3ba3f128",
   "metadata": {},
   "outputs": [
    {
     "data": {
      "text/plain": [
       "14.5    23\n",
       "15.5    21\n",
       "16.0    16\n",
       "14.0    15\n",
       "13.5    14\n",
       "17.0    14\n",
       "15.0    13\n",
       "16.5    13\n",
       "19.0    12\n",
       "13.0    12\n",
       "12.0    10\n",
       "16.4    9 \n",
       "12.5    8 \n",
       "18.0    8 \n",
       "11.5    7 \n",
       "15.8    7 \n",
       "14.9    7 \n",
       "19.5    6 \n",
       "13.2    6 \n",
       "17.3    5 \n",
       "14.7    5 \n",
       "14.4    5 \n",
       "18.5    5 \n",
       "18.2    5 \n",
       "21.0    5 \n",
       "15.7    4 \n",
       "16.2    4 \n",
       "17.5    4 \n",
       "18.6    4 \n",
       "17.6    4 \n",
       "16.9    4 \n",
       "15.4    4 \n",
       "11.0    4 \n",
       "16.7    3 \n",
       "12.8    3 \n",
       "14.2    3 \n",
       "19.2    3 \n",
       "14.8    3 \n",
       "19.4    3 \n",
       "15.2    3 \n",
       "15.3    3 \n",
       "16.6    3 \n",
       "17.7    3 \n",
       "20.5    3 \n",
       "12.6    2 \n",
       "18.7    2 \n",
       "15.9    2 \n",
       "15.1    2 \n",
       "13.6    2 \n",
       "10.0    2 \n",
       "13.4    2 \n",
       "12.2    2 \n",
       "12.9    2 \n",
       "17.2    2 \n",
       "19.6    2 \n",
       "13.7    2 \n",
       "20.1    2 \n",
       "17.8    2 \n",
       "17.4    2 \n",
       "11.4    2 \n",
       "22.2    2 \n",
       "13.8    2 \n",
       "16.8    2 \n",
       "13.9    2 \n",
       "14.3    2 \n",
       "24.6    1 \n",
       "23.5    1 \n",
       "20.7    1 \n",
       "23.7    1 \n",
       "11.3    1 \n",
       "11.1    1 \n",
       "18.3    1 \n",
       "15.6    1 \n",
       "12.1    1 \n",
       "8.5     1 \n",
       "10.5    1 \n",
       "8.0     1 \n",
       "21.5    1 \n",
       "19.9    1 \n",
       "18.8    1 \n",
       "18.1    1 \n",
       "24.8    1 \n",
       "21.8    1 \n",
       "11.6    1 \n",
       "21.9    1 \n",
       "9.5     1 \n",
       "22.1    1 \n",
       "11.2    1 \n",
       "20.4    1 \n",
       "14.1    1 \n",
       "16.1    1 \n",
       "21.7    1 \n",
       "17.1    1 \n",
       "Name: acceleration, dtype: int64"
      ]
     },
     "execution_count": 259,
     "metadata": {},
     "output_type": "execute_result"
    }
   ],
   "source": [
    "df['acceleration'].value_counts()"
   ]
  },
  {
   "cell_type": "code",
   "execution_count": 260,
   "id": "0f8602e5",
   "metadata": {},
   "outputs": [
    {
     "data": {
      "text/plain": [
       "<AxesSubplot:xlabel='acceleration'>"
      ]
     },
     "execution_count": 260,
     "metadata": {},
     "output_type": "execute_result"
    },
    {
     "data": {
      "image/png": "[encoded data removed]",
      "text/plain": [
       "<Figure size 432x288 with 1 Axes>"
      ]
     },
     "metadata": {
      "needs_background": "light"
     },
     "output_type": "display_data"
    }
   ],
   "source": [
    "sns.boxplot(df.acceleration)"
   ]
  },
  {
   "cell_type": "code",
   "execution_count": 261,
   "id": "fa1a2375",
   "metadata": {},
   "outputs": [
    {
     "name": "stdout",
     "output_type": "stream",
     "text": [
      "Q3:  17.275\n",
      "Q1:  14.0\n",
      "IQR:  3.2749999999999986\n",
      "UL:  22.187499999999996\n",
      "LL:  9.087500000000002\n"
     ]
    }
   ],
   "source": [
    "Q3=df.acceleration.quantile(0.75)\n",
    "Q1=df.acceleration.quantile(0.25)\n",
    "IQR=Q3-Q1\n",
    "UL=Q3 + (1.5*IQR)\n",
    "LL=Q1 - (1.5*IQR)\n",
    "\n",
    "print(\"Q3: \",Q3)\n",
    "print(\"Q1: \",Q1)\n",
    "print(\"IQR: \",IQR)\n",
    "print(\"UL: \",UL)\n",
    "print(\"LL: \",LL)"
   ]
  },
  {
   "cell_type": "code",
   "execution_count": 262,
   "id": "63cab8a9",
   "metadata": {},
   "outputs": [
    {
     "data": {
      "text/plain": [
       "6"
      ]
     },
     "execution_count": 262,
     "metadata": {},
     "output_type": "execute_result"
    }
   ],
   "source": [
    "df.acceleration[(df.acceleration > UL)].value_counts().sum()"
   ]
  },
  {
   "cell_type": "code",
   "execution_count": 263,
   "id": "5bd21602",
   "metadata": {},
   "outputs": [
    {
     "data": {
      "text/plain": [
       "2"
      ]
     },
     "execution_count": 263,
     "metadata": {},
     "output_type": "execute_result"
    }
   ],
   "source": [
    "df.acceleration[(df.acceleration < LL)].value_counts().sum()"
   ]
  },
  {
   "cell_type": "code",
   "execution_count": 264,
   "id": "28a8414d",
   "metadata": {},
   "outputs": [],
   "source": [
    "df.acceleration=np.where(df.acceleration>UL,UL,df.acceleration)"
   ]
  },
  {
   "cell_type": "code",
   "execution_count": 265,
   "id": "fac45336",
   "metadata": {},
   "outputs": [],
   "source": [
    "df.acceleration=np.where(df.acceleration<LL,LL,df.acceleration)"
   ]
  },
  {
   "cell_type": "code",
   "execution_count": 266,
   "id": "51d01368",
   "metadata": {},
   "outputs": [
    {
     "data": {
      "text/plain": [
       "<AxesSubplot:xlabel='acceleration'>"
      ]
     },
     "execution_count": 266,
     "metadata": {},
     "output_type": "execute_result"
    },
    {
     "data": {
      "image/png": "[encoded data removed]",
      "text/plain": [
       "<Figure size 432x288 with 1 Axes>"
      ]
     },
     "metadata": {
      "needs_background": "light"
     },
     "output_type": "display_data"
    }
   ],
   "source": [
    "sns.boxplot(df.acceleration)"
   ]
  },
  {
   "cell_type": "code",
   "execution_count": 267,
   "id": "412aefdb",
   "metadata": {},
   "outputs": [
    {
     "data": {
      "text/plain": [
       "<AxesSubplot:xlabel='acceleration', ylabel='Density'>"
      ]
     },
     "execution_count": 267,
     "metadata": {},
     "output_type": "execute_result"
    },
    {
     "data": {
      "image/png": "[encoded data removed]",
      "text/plain": [
       "<Figure size 432x288 with 1 Axes>"
      ]
     },
     "metadata": {
      "needs_background": "light"
     },
     "output_type": "display_data"
    }
   ],
   "source": [
    "sns.distplot(df.acceleration)"
   ]
  },
  {
   "cell_type": "code",
   "execution_count": 268,
   "id": "3c273bdd",
   "metadata": {},
   "outputs": [
    {
     "name": "stdout",
     "output_type": "stream",
     "text": [
      "Pearsons correlation: 0.385\n"
     ]
    }
   ],
   "source": [
    "corr, _ = pearsonr(df.Kilometer_per_liter,df.acceleration)\n",
    "print('Pearsons correlation: %.3f' % corr)"
   ]
  },
  {
   "cell_type": "code",
   "execution_count": 269,
   "id": "6f3d43f2",
   "metadata": {
    "scrolled": true
   },
   "outputs": [
    {
     "data": {
      "text/plain": [
       "<matplotlib.collections.PathCollection at 0x20cbcd3d3d0>"
      ]
     },
     "execution_count": 269,
     "metadata": {},
     "output_type": "execute_result"
    },
    {
     "data": {
      "image/png": "[encoded data removed]",
      "text/plain": [
       "<Figure size 432x288 with 1 Axes>"
      ]
     },
     "metadata": {
      "needs_background": "light"
     },
     "output_type": "display_data"
    }
   ],
   "source": [
    "plt.scatter(df.Kilometer_per_liter,df.acceleration)"
   ]
  },
  {
   "cell_type": "code",
   "execution_count": 270,
   "id": "4ddebe28",
   "metadata": {},
   "outputs": [],
   "source": [
    "df.drop(['name'], axis = 1, inplace = True)"
   ]
  },
  {
   "cell_type": "markdown",
   "id": "dd36d477",
   "metadata": {},
   "source": [
    "# Model Building"
   ]
  },
  {
   "cell_type": "code",
   "execution_count": 271,
   "id": "1d9191b0",
   "metadata": {},
   "outputs": [
    {
     "data": {
      "text/plain": [
       "origin                 0.556061\n",
       "cylinders              0.752424\n",
       "displacement          -0.821473\n",
       "horsepower            -0.783683\n",
       "weight                -0.826527\n",
       "acceleration           0.384667\n",
       "year                   0.558725\n",
       "Kilometer_per_liter    1.000000\n",
       "Name: Kilometer_per_liter, dtype: float64"
      ]
     },
     "execution_count": 271,
     "metadata": {},
     "output_type": "execute_result"
    },
    {
     "data": {
      "image/png": "[encoded data removed]",
      "text/plain": [
       "<Figure size 432x288 with 2 Axes>"
      ]
     },
     "metadata": {
      "needs_background": "light"
     },
     "output_type": "display_data"
    }
   ],
   "source": [
    "sns.heatmap(df.corr(),annot = True, cmap='RdYlBu')\n",
    "df.corr()['Kilometer_per_liter']"
   ]
  },
  {
   "cell_type": "code",
   "execution_count": 272,
   "id": "05b87ced",
   "metadata": {},
   "outputs": [
    {
     "name": "stdout",
     "output_type": "stream",
     "text": [
      "<class 'pandas.core.frame.DataFrame'>\n",
      "Int64Index: 386 entries, 0 to 397\n",
      "Data columns (total 8 columns):\n",
      " #   Column               Non-Null Count  Dtype  \n",
      "---  ------               --------------  -----  \n",
      " 0   origin               386 non-null    int64  \n",
      " 1   cylinders            386 non-null    int64  \n",
      " 2   displacement         386 non-null    float64\n",
      " 3   horsepower           386 non-null    int32  \n",
      " 4   weight               386 non-null    int64  \n",
      " 5   acceleration         386 non-null    float64\n",
      " 6   year                 386 non-null    int64  \n",
      " 7   Kilometer_per_liter  386 non-null    float64\n",
      "dtypes: float64(3), int32(1), int64(4)\n",
      "memory usage: 33.7 KB\n"
     ]
    }
   ],
   "source": [
    "df.info()"
   ]
  },
  {
   "cell_type": "code",
   "execution_count": 273,
   "id": "ef774c1d",
   "metadata": {},
   "outputs": [],
   "source": [
    "x = df.iloc[:, :7]\n",
    "y = df.Kilometer_per_liter"
   ]
  },
  {
   "cell_type": "code",
   "execution_count": 274,
   "id": "0aec5e8b",
   "metadata": {},
   "outputs": [],
   "source": [
    "from sklearn.model_selection import train_test_split\n",
    "\n",
    "xtrain, xtest, ytrain, ytest = train_test_split(x,y, test_size=0.20, random_state=0)"
   ]
  },
  {
   "cell_type": "code",
   "execution_count": 275,
   "id": "d7159309",
   "metadata": {},
   "outputs": [],
   "source": [
    "from sklearn.preprocessing import StandardScaler\n",
    "\n",
    "sc_x = StandardScaler()\n",
    "xtrain = sc_x.fit_transform(xtrain)\n",
    "xtest = sc_x.transform(xtest)"
   ]
  },
  {
   "cell_type": "code",
   "execution_count": 276,
   "id": "6b57f10c",
   "metadata": {},
   "outputs": [
    {
     "data": {
      "text/plain": [
       "(308, 7)"
      ]
     },
     "execution_count": 276,
     "metadata": {},
     "output_type": "execute_result"
    }
   ],
   "source": [
    "xtrain.shape"
   ]
  },
  {
   "cell_type": "code",
   "execution_count": 277,
   "id": "03ab74f3",
   "metadata": {},
   "outputs": [
    {
     "data": {
      "text/plain": [
       "(78, 7)"
      ]
     },
     "execution_count": 277,
     "metadata": {},
     "output_type": "execute_result"
    }
   ],
   "source": [
    "xtest.shape"
   ]
  },
  {
   "cell_type": "code",
   "execution_count": 278,
   "id": "04871ecf",
   "metadata": {},
   "outputs": [
    {
     "data": {
      "text/plain": [
       "(308,)"
      ]
     },
     "execution_count": 278,
     "metadata": {},
     "output_type": "execute_result"
    }
   ],
   "source": [
    "ytrain.shape"
   ]
  },
  {
   "cell_type": "code",
   "execution_count": 279,
   "id": "ed8c214c",
   "metadata": {},
   "outputs": [
    {
     "data": {
      "text/plain": [
       "(78,)"
      ]
     },
     "execution_count": 279,
     "metadata": {},
     "output_type": "execute_result"
    }
   ],
   "source": [
    "ytest.shape"
   ]
  },
  {
   "cell_type": "markdown",
   "id": "73072551",
   "metadata": {},
   "source": [
    "# Model Using SGD"
   ]
  },
  {
   "cell_type": "code",
   "execution_count": 280,
   "id": "fca98222",
   "metadata": {},
   "outputs": [
    {
     "name": "stdout",
     "output_type": "stream",
     "text": [
      "R-Square:  0.8402487531363099\n"
     ]
    }
   ],
   "source": [
    "from sklearn.linear_model import SGDRegressor\n",
    "\n",
    "sgdr = SGDRegressor()\n",
    "sgdr.fit(xtrain,ytrain)\n",
    "\n",
    "score = sgdr.score(xtrain, ytrain)\n",
    "print('R-Square: ', score)"
   ]
  },
  {
   "cell_type": "code",
   "execution_count": 281,
   "id": "410528be",
   "metadata": {},
   "outputs": [],
   "source": [
    "y_pred = sgdr.predict(xtest)"
   ]
  },
  {
   "cell_type": "code",
   "execution_count": 282,
   "id": "400ab479",
   "metadata": {},
   "outputs": [
    {
     "name": "stdout",
     "output_type": "stream",
     "text": [
      "MSE:  1.967554142906131\n",
      "RMSE:  1.40269531363947\n"
     ]
    }
   ],
   "source": [
    "mse = mean_squared_error(ytest, y_pred)\n",
    "print('MSE: ', mse)\n",
    "print('RMSE: ', np.sqrt(mse))"
   ]
  }
 ],
 "metadata": {
  "kernelspec": {
   "display_name": "Python 3",
   "language": "python",
   "name": "python3"
  },
  "language_info": {
   "codemirror_mode": {
    "name": "ipython",
    "version": 3
   },
   "file_extension": ".py",
   "mimetype": "text/x-python",
   "name": "python",
   "nbconvert_exporter": "python",
   "pygments_lexer": "ipython3",
   "version": "3.8.8"
  }
 },
 "nbformat": 4,
 "nbformat_minor": 5
}
